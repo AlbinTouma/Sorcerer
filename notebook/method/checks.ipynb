{
 "cells": [
  {
   "cell_type": "code",
   "execution_count": 5,
   "metadata": {},
   "outputs": [],
   "source": [
    "import pandas as pd\n",
    "from tqdm import tqdm\n",
    "import os\n",
    "import numpy as np\n",
    "import plotly.graph_objects as go\n",
    "from dataclasses import dataclass"
   ]
  },
  {
   "cell_type": "code",
   "execution_count": 11,
   "metadata": {},
   "outputs": [],
   "source": [
    "df = pd.read_parquet('../../src/parquet/DBPedia.parquet')"
   ]
  },
  {
   "cell_type": "code",
   "execution_count": 12,
   "metadata": {},
   "outputs": [],
   "source": [
    "@dataclass\n",
    "class DataPreparation:\n",
    "    data: pd.DataFrame\n",
    "    \n",
    "    def data_preparation(self):\n",
    "        self.data['_source.sources.source_ids'] = self.data['_source.sources.source_ids'].apply(lambda x: ', '.join(map(str, x)))\n",
    "        self.data['completeness'] = self.data['completeness'].replace(0, 'incomplete')\n",
    "        return self.data\n",
    "    \n",
    "    def filter_rca_dbpedia(self):\n",
    "        '''Filter DF removes RCAs and selects for limits df to the 4 sources that represent 97 percent of data'''\n",
    "        RCA_DBPEDIA = self.data[(self.data['_source.sources.source_ids'] == 'S:FBFYW0 [DBPedia]') & (self.data['PEP_id'] == False)]\n",
    "        self.data.drop(RCA_DBPEDIA.index, inplace=False)\n",
    "\n",
    "    def select_sources(self):\n",
    "        LIST_SOURCE_SOURCE_IDS = ['S:FBFYW0 [DBPedia]','S:4CU7GM [PEP Everypolitician]', 'S:8L276A [Manual PEPs]', 'S:1GYJGG [The Official Board]', 'S:MFCNUA [PEP US Diplomat list 2]']\n",
    "        self.data = self.data[self.data['_source.sources.source_ids'].isin(LIST_SOURCE_SOURCE_IDS)]\n",
    "        return self.data\n",
    "      \n",
    "    def prepare_data(self):\n",
    "        self.data_preparation()\n",
    "        self.filter_rca_dbpedia()\n",
    "        self.select_sources()\n",
    "        return self.data"
   ]
  },
  {
   "cell_type": "code",
   "execution_count": 37,
   "metadata": {},
   "outputs": [
    {
     "data": {
      "text/plain": [
       "{'score.age': 0,\n",
       " 'score.place_of_birth': 0,\n",
       " 'score.location': 1867,\n",
       " 'score.picture': 0,\n",
       " 'score.occupation': 223,\n",
       " 'score.related_url': 0,\n",
       " 'score._source.data.aml_types.end_date': 0,\n",
       " 'score._source.data.aml_types.start_date': 0,\n",
       " 'score._source.data.display_fields.value': 13796,\n",
       " 'score.political_fields': 13796,\n",
       " 'score.gender': 0,\n",
       " 'score.primary': 0,\n",
       " 'score.secondary': 13894,\n",
       " 'score.other': 0,\n",
       " 'score.data_quality': 13894,\n",
       " 'score.delete_profile': 27567}"
      ]
     },
     "execution_count": 37,
     "metadata": {},
     "output_type": "execute_result"
    }
   ],
   "source": [
    "rca = df[df['PEP_id'] == False]\n",
    "rca = rca.filter(like='score')\n",
    "non_zero_count = (rca != 0).sum()\n",
    "non_zero_count.to_dict()"
   ]
  },
  {
   "cell_type": "code",
   "execution_count": null,
   "metadata": {},
   "outputs": [],
   "source": []
  }
 ],
 "metadata": {
  "kernelspec": {
   "display_name": "Python 3 (ipykernel)",
   "language": "python",
   "name": "python3"
  },
  "language_info": {
   "codemirror_mode": {
    "name": "ipython",
    "version": 3
   },
   "file_extension": ".py",
   "mimetype": "text/x-python",
   "name": "python",
   "nbconvert_exporter": "python",
   "pygments_lexer": "ipython3",
   "version": "3.11.7"
  },
  "widgets": {
   "application/vnd.jupyter.widget-state+json": {
    "state": {},
    "version_major": 2,
    "version_minor": 0
   }
  }
 },
 "nbformat": 4,
 "nbformat_minor": 4
}
