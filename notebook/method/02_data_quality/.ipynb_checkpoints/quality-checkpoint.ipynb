{
 "cells": [
  {
   "cell_type": "code",
   "execution_count": 162,
   "id": "19214eb6-9740-4e1b-9c7d-435f6761df2f",
   "metadata": {},
   "outputs": [],
   "source": [
    "import pandas as pd\n",
    "import numpy as np\n",
    "from datetime import datetime, date\n",
    "import math\n",
    "import json"
   ]
  },
  {
   "cell_type": "markdown",
   "id": "a1698ac9-cde8-42a7-9b64-4ac8a4a12b38",
   "metadata": {},
   "source": [
    "-----"
   ]
  },
  {
   "cell_type": "markdown",
   "id": "0f335f1f-b6fd-4c90-902b-e4241e0eeeb5",
   "metadata": {},
   "source": [
    "### DoB\n",
    "\n",
    "- We have a list of dead PEPs. Exclude these\n",
    "- Check start and end data\n",
    "    -  If no start date, then check end date and subtract from 2024 vice versa"
   ]
  },
  {
   "cell_type": "code",
   "execution_count": 163,
   "id": "6bed6875-3cba-49d3-8f35-bc63a41cfa04",
   "metadata": {},
   "outputs": [],
   "source": [
    "#Convert string date to timestamp\n",
    "def convert_str_to_date(row):\n",
    "    '''Convert array of string dates to timestamp dates'''\n",
    "    date_format = '%Y-%m-%d'\n",
    "    if row is None:\n",
    "        return None\n",
    "    else:\n",
    "        for date_str in row:\n",
    "            if date_str is None:\n",
    "                pass\n",
    "            else:\n",
    "                date_obj = datetime.strptime(date_str, date_format)\n",
    "                return date_obj"
   ]
  },
  {
   "cell_type": "code",
   "execution_count": 164,
   "id": "60a98506-f3cd-40bc-bd48-8fec8e0ca246",
   "metadata": {},
   "outputs": [],
   "source": [
    "#Calculate the age from birth \n",
    "def calculate_age(row): \n",
    "    if row is None:\n",
    "        return None\n",
    "    else:\n",
    "        today = date.today()\n",
    "        age = today.year - row.year - ((today.month, today.day) < (row.month, row.day))\n",
    "        return age"
   ]
  },
  {
   "cell_type": "code",
   "execution_count": 165,
   "id": "fda2f356-e798-448c-b631-bfff1e8e33e9",
   "metadata": {},
   "outputs": [],
   "source": [
    "#Score where age follows rule\n",
    "def score(age):\n",
    "    if pd.isnull(age) or age < 18 or age > 100:\n",
    "        return 0\n",
    "    else:\n",
    "        return 1"
   ]
  },
  {
   "cell_type": "code",
   "execution_count": 166,
   "id": "e8151d1c-c80e-4f84-aa41-37c23ebda77f",
   "metadata": {},
   "outputs": [],
   "source": [
    "def return_score(min_age, max_age):\n",
    "    return max(min_age, max_age)"
   ]
  },
  {
   "cell_type": "code",
   "execution_count": 167,
   "id": "47259a17-f0ed-4beb-838c-3a4acffe2a0a",
   "metadata": {},
   "outputs": [],
   "source": [
    "def score_age(min_age, max_age):   \n",
    "    min_age = min_age.apply(lambda x: score(x))\n",
    "    max_age = max_age.apply(lambda x: score(x))\n",
    "    result = pd.concat([min_age, max_age], axis=1)\n",
    "    age_score = result.apply(lambda row: return_score(row[0], row[1]), axis=1)\n",
    "    return age_score"
   ]
  },
  {
   "cell_type": "code",
   "execution_count": 168,
   "id": "bc6bbd3a-5ee6-4af5-90cb-506b4456c299",
   "metadata": {},
   "outputs": [],
   "source": [
    "def work_out_age(df):\n",
    "    dob_fields = ['_source.data.births.has_dob', '_source.data.births.has_enrichment_dob_source', '_source.data.births.min_date', '_source.data.births.max_date']\n",
    "\n",
    "    if any(col in df.columns for col in dob_fields):\n",
    "        df['_source.data.births.min_date'] =  df['_source.data.births.min_date'].apply(lambda x:  convert_str_to_date(x))\n",
    "        df['_source.data.births.max_date'] =  df['_source.data.births.max_date'].apply(lambda x:  convert_str_to_date(x))\n",
    "        df['min_age'] = df['_source.data.births.min_date'].apply(lambda x: calculate_age(x))\n",
    "        df['max_age'] = df['_source.data.births.max_date'].apply(lambda x: calculate_age(x))\n",
    "        df['score.age'] = score_age(df['min_age'], df['max_age'])\n",
    "    else:\n",
    "        df['score.age'] = 0\n",
    "    return df"
   ]
  },
  {
   "cell_type": "markdown",
   "id": "ef693ac1-b0a3-4dd7-99f1-4898498bcf61",
   "metadata": {},
   "source": [
    "-----"
   ]
  },
  {
   "cell_type": "markdown",
   "id": "dd3f7c9b-b0ad-471f-bd9c-1d17cc5a3367",
   "metadata": {},
   "source": [
    "### Place of birth and location\n",
    "> Both conditions must be fulfilled\n",
    "\n",
    "- Is location type ‘place of birth’\n",
    "- Is there a value for place of birth\n"
   ]
  },
  {
   "cell_type": "code",
   "execution_count": 169,
   "id": "85be8ddc-0bed-4a17-8cf2-d8e5ac24a3a4",
   "metadata": {},
   "outputs": [],
   "source": [
    "#Location and general come as array. We convert the arrays to lists\n",
    "def convert_array_to_list(array):\n",
    "    if array is not None:\n",
    "        return [item if item is not None else None for item in array]\n",
    "    return None"
   ]
  },
  {
   "cell_type": "code",
   "execution_count": 170,
   "id": "3251865f-5810-4c50-8fd6-a8f452805e3c",
   "metadata": {},
   "outputs": [],
   "source": [
    "def lists_to_dict(location_type, location_name):\n",
    "    result_list = []\n",
    "    for type, name in zip(location_type, location_name):\n",
    "        if type is not None and name is not None:\n",
    "            result = {}\n",
    "            for key, value in zip(type, name):\n",
    "                if key is not None:\n",
    "                    result[key] = value if value is not None else None\n",
    "            result_list.append(result)\n",
    "        else:\n",
    "            result_list.append(None)  # Append None if either type or name is None\n",
    "    return result_list\n",
    "#In this updated code, we append None to the result_list when either location_type or location_name is None, and an empty dictionary is added to the list for pairs where both location_type and location_name are not None. This ensures that the result list contains either dictionaries or None values based on the presence of None in the input series."
   ]
  },
  {
   "cell_type": "code",
   "execution_count": 171,
   "id": "e90403ea-7a04-471d-9803-9ae9c69cebd1",
   "metadata": {},
   "outputs": [],
   "source": [
    "def create_dictionary(location_type, location_name):\n",
    "    location_type = pd.Series([convert_array_to_list(array) for array in location_type])\n",
    "    location_name = pd.Series([convert_array_to_list(array) for array in location_name])\n",
    "    dictionary_result = pd.Series(lists_to_dict(location_type, location_name))\n",
    "    \n",
    "    return dictionary_result"
   ]
  },
  {
   "cell_type": "code",
   "execution_count": 172,
   "id": "be1503d8-e6b7-48de-a716-bb24bef01148",
   "metadata": {},
   "outputs": [],
   "source": [
    "def extract_scores_from_location_dictionary(row):\n",
    "    place_of_birth = 0\n",
    "    general = 0\n",
    "\n",
    "    \n",
    "    if row is not None:\n",
    "        if 'place_of_birth' in row and row['place_of_birth'] is not None:\n",
    "            place_of_birth = 1\n",
    "            \n",
    "            \n",
    "        if 'general' in row and row['general'] is not None:\n",
    "            general = 1\n",
    "            \n",
    "    return place_of_birth, general"
   ]
  },
  {
   "cell_type": "code",
   "execution_count": 173,
   "id": "e9445b5f-a9e6-43af-a9da-e68238e29c6c",
   "metadata": {},
   "outputs": [],
   "source": [
    "def score_location(df):\n",
    "    '''Score whether there is key: general|place_of_birth and if it has a value'''\n",
    "    \n",
    "    df['dictionary_result'] = create_dictionary(df['_source.data.locations.location_type'], df['_source.data.locations.name'])\n",
    "    df['score.place_of_birth'] = df['dictionary_result'].apply(lambda x: extract_scores_from_location_dictionary(x)).apply(lambda x: x[0])\n",
    "    df['score.location'] = df['dictionary_result'].apply(lambda x: extract_scores_from_location_dictionary(x)).apply(lambda x: x[1])\n",
    "    return df"
   ]
  },
  {
   "cell_type": "markdown",
   "id": "5dbfa6e4-7a7b-4ce4-ba57-9bfc4b1ef311",
   "metadata": {},
   "source": [
    "_____"
   ]
  },
  {
   "cell_type": "markdown",
   "id": "88b871ca-0ade-4924-a004-879490126545",
   "metadata": {},
   "source": [
    "### Picture\n",
    "\n",
    " - is asset type image? == image\n",
    " - is there a url? == external_urls is not comply! "
   ]
  },
  {
   "cell_type": "code",
   "execution_count": 174,
   "id": "1d02b43e-1e7b-442d-8904-57f75e29f373",
   "metadata": {},
   "outputs": [],
   "source": [
    "def check_for_image_type(lst):\n",
    "    if lst is not None:\n",
    "        return 'image' in lst\n",
    "    if lst is None:\n",
    "        return False\n",
    "\n",
    "def check_for_external_urls(lst):\n",
    "    if lst is not None:\n",
    "        for item in lst:\n",
    "            if item:\n",
    "                return True\n",
    "    if lst is None:\n",
    "        return False\n",
    "\n",
    "def score_picture(asset_types, external_urls): \n",
    "\n",
    "    #Convert asset_types and external urls to list\n",
    "    asset_types = pd.Series([convert_array_to_list(array) for array in asset_types])\n",
    "    external_urls = pd.Series([convert_array_to_list(array) for array in external_urls])\n",
    "\n",
    "    #Check if there is image in list of assets.types\n",
    "    is_image = asset_types.apply(check_for_image_type)\n",
    "\n",
    "    #Check if there's a value for URL\n",
    "    is_url = asset_types.apply(check_for_external_urls)\n",
    "\n",
    "    #Score 1 if image and url are both true\n",
    "    picture_score = (is_image & is_url).astype(int)\n",
    "    \n",
    "\n",
    "\n",
    "    \n",
    "    \n",
    "    return is_image, is_url, picture_score\n",
    "    "
   ]
  },
  {
   "cell_type": "code",
   "execution_count": 175,
   "id": "4af55f3b-54d2-4a2f-9709-503dd2053aa5",
   "metadata": {},
   "outputs": [],
   "source": [
    "def execute_score_picture(df):\n",
    "    asset_fields = ['_source.assets.asset_types', '_source.assets.external_urls']\n",
    "\n",
    "    #If both asset_types and external_urls columns are present then execute score_picture fields. If not then award 0 as both are required. \n",
    "    if all(col in df.columns for col in asset_fields):\n",
    "        df['is_image'], df['is_url'], df['score.picture'] = score_picture(df['_source.assets.asset_types'], df['_source.assets.external_urls'])\n",
    "    else:\n",
    "        df['score.picture'] = 0\n",
    "    \n",
    "    return df"
   ]
  },
  {
   "cell_type": "markdown",
   "id": "477288c1-38ba-4081-bcdb-95f57bbbc359",
   "metadata": {},
   "source": [
    "### Occupation \n",
    "- Does PEP have a relevant occupation?\n"
   ]
  },
  {
   "cell_type": "code",
   "execution_count": 176,
   "id": "511efdd9-bf3e-416e-bb52-0ca0ecd1c58c",
   "metadata": {},
   "outputs": [],
   "source": [
    "def score_occupation(array):\n",
    "    return array.astype(int)\n",
    "\n",
    "def execute_score_occupation(df):\n",
    "    df['score.occupation'] = score_occupation(df['has_occupation'])\n",
    "    return df"
   ]
  },
  {
   "cell_type": "markdown",
   "id": "f5f23c1d-4e31-4874-be7f-3ef4dafc19c3",
   "metadata": {},
   "source": [
    "### Related URL\n",
    "\n",
    "- Is URL not comply advantage, then 1.\n",
    "-  Related URL is in display_fields.title and the url itself is inside display_fields.value"
   ]
  },
  {
   "cell_type": "code",
   "execution_count": 177,
   "id": "d2ec3811-dee4-4962-aa30-e4863b0a7a30",
   "metadata": {},
   "outputs": [],
   "source": [
    "def extract_related_url(series_dictionary):\n",
    "    exclude_urls = ['http://complyadvantage.com', 'https://complyadvantage.com']\n",
    "    url_correct = 0\n",
    "    #for row in series_dictionary:\n",
    "    if series_dictionary is not None:\n",
    "        related_url_value = series_dictionary.get('Related Url')\n",
    "        \n",
    "        if related_url_value:\n",
    "            if not any(exclude_url in related_url_value for exclude_url in exclude_urls):\n",
    "                    url_correct = 1\n",
    "                    #print(f'related_url value is {related_url_value}')\n",
    "            else:\n",
    "                    url_correct = 0\n",
    "                    #print(f'contains {substring_to_exclude}')\n",
    "        else:\n",
    "                url_correct = 0\n",
    "                #print('The related url is not in dictionary')\n",
    "    return url_correct\n",
    "        \n",
    "    #Need to extract them as dictionary"
   ]
  },
  {
   "cell_type": "code",
   "execution_count": 178,
   "id": "24854426-fd0e-465d-987e-e4ac0ec7ecc3",
   "metadata": {},
   "outputs": [],
   "source": [
    "#df[['_source.data.display_fields.title', '_source.data.display_fields.value']].value_counts()\n",
    "def related_urls(display_fields_title, display_fields_value):\n",
    "    #Convert array list\n",
    "    display_fields_title = pd.Series([convert_array_to_list(array) for array in display_fields_title])\n",
    "    display_fields_value = pd.Series([convert_array_to_list(array) for array in display_fields_value])\n",
    "\n",
    "    #Convert lists into dictionary\n",
    "    dictionary_result = pd.Series(lists_to_dict(display_fields_title, display_fields_value))\n",
    "    url_correct = dictionary_result.apply(lambda x: extract_related_url(x))\n",
    "\n",
    "    return url_correct\n",
    "    "
   ]
  },
  {
   "cell_type": "code",
   "execution_count": 179,
   "id": "6852854d-dbea-422d-a715-d32f98cbaf7a",
   "metadata": {},
   "outputs": [],
   "source": [
    "def execute_score_related_urls(df):\n",
    "    url_fields = ['_source.data.display_fields.title', '_source.data.display_fields.value']\n",
    "    if all(col in df.columns for col in url_fields):\n",
    "        df['score.related_url'] = related_urls(df['_source.data.display_fields.title'], df['_source.data.display_fields.value'])\n",
    "    else:\n",
    "        df['score.related_url'] = 0\n",
    "    \n",
    "    return df\n",
    "    "
   ]
  },
  {
   "cell_type": "markdown",
   "id": "79564136-b4ab-46e7-b1e7-09ab5afed0a2",
   "metadata": {},
   "source": [
    "### Other Political Information\n",
    "\n",
    "- Any of the following conditions must be true\n",
    "- Is there a value for active_start date?\n",
    "- Is there a value for end_date?\n",
    "- Is there a value for data_fields.display_value?"
   ]
  },
  {
   "cell_type": "markdown",
   "id": "b6688717-68e8-4f80-91b3-aab0176f8a1b",
   "metadata": {},
   "source": [
    "### Other Related Political Information\n",
    "\n",
    "- Is there a value for either start_date, end_date, or display_field.value then 1."
   ]
  },
  {
   "cell_type": "code",
   "execution_count": 180,
   "id": "4805bc3f-3255-46fa-b890-feafda14bfba",
   "metadata": {},
   "outputs": [],
   "source": [
    "#Check if the list in our political columns has a value\n",
    "def has_non_none_value(lst):\n",
    "    if lst is not None:\n",
    "        return 1 if any(item is not None for item in lst) else 0\n",
    "    return 0\n"
   ]
  },
  {
   "cell_type": "code",
   "execution_count": 181,
   "id": "35da620e-a74e-461f-abcd-5938d65ac161",
   "metadata": {},
   "outputs": [],
   "source": [
    "#Loop through our scored columns. If there's 1 then add1 for political score\n",
    "def has_political_fields(row, columns):\n",
    "    for col in columns:\n",
    "        if row[f'score.{col}'] == 1:\n",
    "            return 1\n",
    "    return 0"
   ]
  },
  {
   "cell_type": "code",
   "execution_count": 182,
   "id": "3ba68d16-f5f0-4612-9d09-97012c41d8e6",
   "metadata": {},
   "outputs": [],
   "source": [
    "def execute_political_fields(df):\n",
    "    #Political columns that we're interested in\n",
    "    political_columns = [ '_source.data.aml_types.end_date', '_source.data.aml_types.start_date', '_source.data.display_fields.value']\n",
    "\n",
    "    #For each column in our political columns, convert array to list; check if there's a value and score 1, then for our columns, check if any of them has 1 and return 1 for politics. \n",
    "    for col in political_columns:\n",
    "        col_series = pd.Series([convert_array_to_list(array) for array in df[col]])\n",
    "        df[f'score.{col}'] = df[col].apply(has_non_none_value)\n",
    "            \n",
    "    df['score.political_fields'] = df.apply(has_political_fields, columns = political_columns, axis=1)\n",
    "    \n",
    "    return df\n"
   ]
  },
  {
   "cell_type": "markdown",
   "id": "cae51411-44e1-43cb-892a-02873d6dd2e8",
   "metadata": {},
   "source": [
    "### Gender\n",
    "- '_source.data.genders.gender', should have value"
   ]
  },
  {
   "cell_type": "code",
   "execution_count": 183,
   "id": "bdddca76-1a9c-4671-8ac4-550311425692",
   "metadata": {},
   "outputs": [],
   "source": [
    "def execute_score_gender(df):\n",
    "    gender_field = ['_source.data.genders.gender']\n",
    "    if '_source.data.genders.gender' in df.columns:\n",
    "        gender = pd.Series([convert_array_to_list(array) for array in df['_source.data.genders.gender']])\n",
    "        df['score.gender'] = gender.apply(has_non_none_value)\n",
    "    else:\n",
    "        df['score.gender'] = 0\n",
    "    \n",
    "    return df\n",
    "    \n",
    "    "
   ]
  },
  {
   "cell_type": "markdown",
   "id": "c69c4bfa",
   "metadata": {},
   "source": [
    "### Data Quality Score"
   ]
  },
  {
   "cell_type": "code",
   "execution_count": 184,
   "id": "38c0a35d",
   "metadata": {},
   "outputs": [],
   "source": [
    "category_weight = {\n",
    "    \"primary\": 0.5,\n",
    "    \"secondary\": 0.35,\n",
    "    \"other\": 0.15\n",
    "}"
   ]
  },
  {
   "cell_type": "code",
   "execution_count": 185,
   "id": "0ddf48da",
   "metadata": {},
   "outputs": [],
   "source": [
    "def apply_scoring_system(df): \n",
    "    with open('../../templates/scoring_system.json', 'r') as file:\n",
    "        scoring_system = json.load(file)\n",
    "    \n",
    "    for column in df.columns:\n",
    "        if column in scoring_system:\n",
    "            df[column] *=scoring_system[column]\n",
    "    \n",
    "    \n",
    "    return df"
   ]
  },
  {
   "cell_type": "code",
   "execution_count": 186,
   "id": "e665f872",
   "metadata": {},
   "outputs": [],
   "source": [
    "def data_quality_score(df):\n",
    "    primary_identifiers = ['score.age', 'score.place_of_birth', 'score.picture']\n",
    "    secondary_identifiers = ['score.location', 'score.occupation', 'score.picture', 'score.political_fields']\n",
    "    other_identifiers = ['score.related_url', 'score.gender']\n",
    "\n",
    "\n",
    "    df['score.primary'] = df[primary_identifiers].sum(axis=1) \n",
    "    df['score.secondary'] = df[secondary_identifiers].sum(axis=1) \n",
    "    df['score.other'] = df[other_identifiers].sum(axis=1) \n",
    "    df['score.data_quality'] = df[['score.primary', 'score.secondary', 'score.other']].sum(axis=1)\n",
    "\n",
    "    return df"
   ]
  },
  {
   "cell_type": "code",
   "execution_count": 208,
   "id": "f6b9f03c-3047-4b8a-bac6-9bde755af293",
   "metadata": {},
   "outputs": [
    {
     "name": "stderr",
     "output_type": "stream",
     "text": [
      "C:\\Users\\AlbinTouma\\AppData\\Local\\Temp\\ipykernel_13540\\630597892.py:5: FutureWarning: Series.__getitem__ treating keys as positions is deprecated. In a future version, integer keys will always be treated as labels (consistent with DataFrame behavior). To access a value by position, use `ser.iloc[pos]`\n",
      "  age_score = result.apply(lambda row: return_score(row[0], row[1]), axis=1)\n"
     ]
    }
   ],
   "source": [
    "def main():\n",
    "    df = pd.read_parquet('../../parquet/DBPedia.parquet')\n",
    "    #df = pd.read_parquet('../../parquet/Manual PEPs.parquet')\n",
    "    #df = pd.concat([df, df2], axis=0)\n",
    "    df = work_out_age(df)    \n",
    "    df[['score.age', '_source.data.births.age', '_source.data.births.max_date', '_source.data.births.min_date', '_source.data.locations.location_type', '_source.data.locations.name']]\n",
    "    df = score_location(df)\n",
    "    df = execute_score_picture(df)\n",
    "    df = execute_score_occupation(df)\n",
    "    df = execute_score_related_urls(df)\n",
    "    df = execute_political_fields(df)\n",
    "    df = execute_score_gender(df)\n",
    "    df = apply_scoring_system(df)\n",
    "    df = data_quality_score(df)\n",
    "    df.sort_values(by='score.data_quality', ascending=False)\n",
    "    df = df.filter(like='score')\n",
    "    return df\n",
    "\n",
    "df = main()"
   ]
  },
  {
   "cell_type": "code",
   "execution_count": 212,
   "id": "37025fe7",
   "metadata": {},
   "outputs": [
    {
     "data": {
      "text/plain": [
       "<AxesSubplot: xlabel='index,score.age,score.place_of_birth,score.picture,score.primary'>"
      ]
     },
     "execution_count": 212,
     "metadata": {},
     "output_type": "execute_result"
    },
    {
     "name": "stdout",
     "output_type": "stream",
     "text": [
      "Error in callback <function _draw_all_if_interactive at 0x00000211917200D0> (for post_execute):\n"
     ]
    },
    {
     "ename": "KeyboardInterrupt",
     "evalue": "",
     "output_type": "error",
     "traceback": [
      "\u001b[1;31m---------------------------------------------------------------------------\u001b[0m",
      "\u001b[1;31mKeyboardInterrupt\u001b[0m                         Traceback (most recent call last)",
      "File \u001b[1;32mc:\\Users\\AlbinTouma\\AppData\\Local\\Programs\\Python\\Python310\\lib\\site-packages\\matplotlib\\pyplot.py:119\u001b[0m, in \u001b[0;36m_draw_all_if_interactive\u001b[1;34m()\u001b[0m\n\u001b[0;32m    117\u001b[0m \u001b[39mdef\u001b[39;00m \u001b[39m_draw_all_if_interactive\u001b[39m():\n\u001b[0;32m    118\u001b[0m     \u001b[39mif\u001b[39;00m matplotlib\u001b[39m.\u001b[39mis_interactive():\n\u001b[1;32m--> 119\u001b[0m         draw_all()\n",
      "File \u001b[1;32mc:\\Users\\AlbinTouma\\AppData\\Local\\Programs\\Python\\Python310\\lib\\site-packages\\matplotlib\\_pylab_helpers.py:132\u001b[0m, in \u001b[0;36mGcf.draw_all\u001b[1;34m(cls, force)\u001b[0m\n\u001b[0;32m    130\u001b[0m \u001b[39mfor\u001b[39;00m manager \u001b[39min\u001b[39;00m \u001b[39mcls\u001b[39m\u001b[39m.\u001b[39mget_all_fig_managers():\n\u001b[0;32m    131\u001b[0m     \u001b[39mif\u001b[39;00m force \u001b[39mor\u001b[39;00m manager\u001b[39m.\u001b[39mcanvas\u001b[39m.\u001b[39mfigure\u001b[39m.\u001b[39mstale:\n\u001b[1;32m--> 132\u001b[0m         manager\u001b[39m.\u001b[39;49mcanvas\u001b[39m.\u001b[39;49mdraw_idle()\n",
      "File \u001b[1;32mc:\\Users\\AlbinTouma\\AppData\\Local\\Programs\\Python\\Python310\\lib\\site-packages\\matplotlib\\backend_bases.py:2054\u001b[0m, in \u001b[0;36mFigureCanvasBase.draw_idle\u001b[1;34m(self, *args, **kwargs)\u001b[0m\n\u001b[0;32m   2052\u001b[0m \u001b[39mif\u001b[39;00m \u001b[39mnot\u001b[39;00m \u001b[39mself\u001b[39m\u001b[39m.\u001b[39m_is_idle_drawing:\n\u001b[0;32m   2053\u001b[0m     \u001b[39mwith\u001b[39;00m \u001b[39mself\u001b[39m\u001b[39m.\u001b[39m_idle_draw_cntx():\n\u001b[1;32m-> 2054\u001b[0m         \u001b[39mself\u001b[39m\u001b[39m.\u001b[39mdraw(\u001b[39m*\u001b[39margs, \u001b[39m*\u001b[39m\u001b[39m*\u001b[39mkwargs)\n",
      "File \u001b[1;32mc:\\Users\\AlbinTouma\\AppData\\Local\\Programs\\Python\\Python310\\lib\\site-packages\\matplotlib\\backends\\backend_agg.py:405\u001b[0m, in \u001b[0;36mFigureCanvasAgg.draw\u001b[1;34m(self)\u001b[0m\n\u001b[0;32m    401\u001b[0m \u001b[39m# Acquire a lock on the shared font cache.\u001b[39;00m\n\u001b[0;32m    402\u001b[0m \u001b[39mwith\u001b[39;00m RendererAgg\u001b[39m.\u001b[39mlock, \\\n\u001b[0;32m    403\u001b[0m      (\u001b[39mself\u001b[39m\u001b[39m.\u001b[39mtoolbar\u001b[39m.\u001b[39m_wait_cursor_for_draw_cm() \u001b[39mif\u001b[39;00m \u001b[39mself\u001b[39m\u001b[39m.\u001b[39mtoolbar\n\u001b[0;32m    404\u001b[0m       \u001b[39melse\u001b[39;00m nullcontext()):\n\u001b[1;32m--> 405\u001b[0m     \u001b[39mself\u001b[39;49m\u001b[39m.\u001b[39;49mfigure\u001b[39m.\u001b[39;49mdraw(\u001b[39mself\u001b[39;49m\u001b[39m.\u001b[39;49mrenderer)\n\u001b[0;32m    406\u001b[0m     \u001b[39m# A GUI class may be need to update a window using this draw, so\u001b[39;00m\n\u001b[0;32m    407\u001b[0m     \u001b[39m# don't forget to call the superclass.\u001b[39;00m\n\u001b[0;32m    408\u001b[0m     \u001b[39msuper\u001b[39m()\u001b[39m.\u001b[39mdraw()\n",
      "File \u001b[1;32mc:\\Users\\AlbinTouma\\AppData\\Local\\Programs\\Python\\Python310\\lib\\site-packages\\matplotlib\\artist.py:74\u001b[0m, in \u001b[0;36m_finalize_rasterization.<locals>.draw_wrapper\u001b[1;34m(artist, renderer, *args, **kwargs)\u001b[0m\n\u001b[0;32m     72\u001b[0m \u001b[39m@wraps\u001b[39m(draw)\n\u001b[0;32m     73\u001b[0m \u001b[39mdef\u001b[39;00m \u001b[39mdraw_wrapper\u001b[39m(artist, renderer, \u001b[39m*\u001b[39margs, \u001b[39m*\u001b[39m\u001b[39m*\u001b[39mkwargs):\n\u001b[1;32m---> 74\u001b[0m     result \u001b[39m=\u001b[39m draw(artist, renderer, \u001b[39m*\u001b[39margs, \u001b[39m*\u001b[39m\u001b[39m*\u001b[39mkwargs)\n\u001b[0;32m     75\u001b[0m     \u001b[39mif\u001b[39;00m renderer\u001b[39m.\u001b[39m_rasterizing:\n\u001b[0;32m     76\u001b[0m         renderer\u001b[39m.\u001b[39mstop_rasterizing()\n",
      "File \u001b[1;32mc:\\Users\\AlbinTouma\\AppData\\Local\\Programs\\Python\\Python310\\lib\\site-packages\\matplotlib\\artist.py:51\u001b[0m, in \u001b[0;36mallow_rasterization.<locals>.draw_wrapper\u001b[1;34m(artist, renderer)\u001b[0m\n\u001b[0;32m     48\u001b[0m     \u001b[39mif\u001b[39;00m artist\u001b[39m.\u001b[39mget_agg_filter() \u001b[39mis\u001b[39;00m \u001b[39mnot\u001b[39;00m \u001b[39mNone\u001b[39;00m:\n\u001b[0;32m     49\u001b[0m         renderer\u001b[39m.\u001b[39mstart_filter()\n\u001b[1;32m---> 51\u001b[0m     \u001b[39mreturn\u001b[39;00m draw(artist, renderer)\n\u001b[0;32m     52\u001b[0m \u001b[39mfinally\u001b[39;00m:\n\u001b[0;32m     53\u001b[0m     \u001b[39mif\u001b[39;00m artist\u001b[39m.\u001b[39mget_agg_filter() \u001b[39mis\u001b[39;00m \u001b[39mnot\u001b[39;00m \u001b[39mNone\u001b[39;00m:\n",
      "File \u001b[1;32mc:\\Users\\AlbinTouma\\AppData\\Local\\Programs\\Python\\Python310\\lib\\site-packages\\matplotlib\\figure.py:3071\u001b[0m, in \u001b[0;36mFigure.draw\u001b[1;34m(self, renderer)\u001b[0m\n\u001b[0;32m   3068\u001b[0m         \u001b[39m# ValueError can occur when resizing a window.\u001b[39;00m\n\u001b[0;32m   3070\u001b[0m \u001b[39mself\u001b[39m\u001b[39m.\u001b[39mpatch\u001b[39m.\u001b[39mdraw(renderer)\n\u001b[1;32m-> 3071\u001b[0m mimage\u001b[39m.\u001b[39;49m_draw_list_compositing_images(\n\u001b[0;32m   3072\u001b[0m     renderer, \u001b[39mself\u001b[39;49m, artists, \u001b[39mself\u001b[39;49m\u001b[39m.\u001b[39;49msuppressComposite)\n\u001b[0;32m   3074\u001b[0m \u001b[39mfor\u001b[39;00m sfig \u001b[39min\u001b[39;00m \u001b[39mself\u001b[39m\u001b[39m.\u001b[39msubfigs:\n\u001b[0;32m   3075\u001b[0m     sfig\u001b[39m.\u001b[39mdraw(renderer)\n",
      "File \u001b[1;32mc:\\Users\\AlbinTouma\\AppData\\Local\\Programs\\Python\\Python310\\lib\\site-packages\\matplotlib\\image.py:131\u001b[0m, in \u001b[0;36m_draw_list_compositing_images\u001b[1;34m(renderer, parent, artists, suppress_composite)\u001b[0m\n\u001b[0;32m    129\u001b[0m \u001b[39mif\u001b[39;00m not_composite \u001b[39mor\u001b[39;00m \u001b[39mnot\u001b[39;00m has_images:\n\u001b[0;32m    130\u001b[0m     \u001b[39mfor\u001b[39;00m a \u001b[39min\u001b[39;00m artists:\n\u001b[1;32m--> 131\u001b[0m         a\u001b[39m.\u001b[39;49mdraw(renderer)\n\u001b[0;32m    132\u001b[0m \u001b[39melse\u001b[39;00m:\n\u001b[0;32m    133\u001b[0m     \u001b[39m# Composite any adjacent images together\u001b[39;00m\n\u001b[0;32m    134\u001b[0m     image_group \u001b[39m=\u001b[39m []\n",
      "File \u001b[1;32mc:\\Users\\AlbinTouma\\AppData\\Local\\Programs\\Python\\Python310\\lib\\site-packages\\matplotlib\\artist.py:51\u001b[0m, in \u001b[0;36mallow_rasterization.<locals>.draw_wrapper\u001b[1;34m(artist, renderer)\u001b[0m\n\u001b[0;32m     48\u001b[0m     \u001b[39mif\u001b[39;00m artist\u001b[39m.\u001b[39mget_agg_filter() \u001b[39mis\u001b[39;00m \u001b[39mnot\u001b[39;00m \u001b[39mNone\u001b[39;00m:\n\u001b[0;32m     49\u001b[0m         renderer\u001b[39m.\u001b[39mstart_filter()\n\u001b[1;32m---> 51\u001b[0m     \u001b[39mreturn\u001b[39;00m draw(artist, renderer)\n\u001b[0;32m     52\u001b[0m \u001b[39mfinally\u001b[39;00m:\n\u001b[0;32m     53\u001b[0m     \u001b[39mif\u001b[39;00m artist\u001b[39m.\u001b[39mget_agg_filter() \u001b[39mis\u001b[39;00m \u001b[39mnot\u001b[39;00m \u001b[39mNone\u001b[39;00m:\n",
      "File \u001b[1;32mc:\\Users\\AlbinTouma\\AppData\\Local\\Programs\\Python\\Python310\\lib\\site-packages\\matplotlib\\axes\\_base.py:3107\u001b[0m, in \u001b[0;36m_AxesBase.draw\u001b[1;34m(self, renderer)\u001b[0m\n\u001b[0;32m   3104\u001b[0m         a\u001b[39m.\u001b[39mdraw(renderer)\n\u001b[0;32m   3105\u001b[0m     renderer\u001b[39m.\u001b[39mstop_rasterizing()\n\u001b[1;32m-> 3107\u001b[0m mimage\u001b[39m.\u001b[39;49m_draw_list_compositing_images(\n\u001b[0;32m   3108\u001b[0m     renderer, \u001b[39mself\u001b[39;49m, artists, \u001b[39mself\u001b[39;49m\u001b[39m.\u001b[39;49mfigure\u001b[39m.\u001b[39;49msuppressComposite)\n\u001b[0;32m   3110\u001b[0m renderer\u001b[39m.\u001b[39mclose_group(\u001b[39m'\u001b[39m\u001b[39maxes\u001b[39m\u001b[39m'\u001b[39m)\n\u001b[0;32m   3111\u001b[0m \u001b[39mself\u001b[39m\u001b[39m.\u001b[39mstale \u001b[39m=\u001b[39m \u001b[39mFalse\u001b[39;00m\n",
      "File \u001b[1;32mc:\\Users\\AlbinTouma\\AppData\\Local\\Programs\\Python\\Python310\\lib\\site-packages\\matplotlib\\image.py:131\u001b[0m, in \u001b[0;36m_draw_list_compositing_images\u001b[1;34m(renderer, parent, artists, suppress_composite)\u001b[0m\n\u001b[0;32m    129\u001b[0m \u001b[39mif\u001b[39;00m not_composite \u001b[39mor\u001b[39;00m \u001b[39mnot\u001b[39;00m has_images:\n\u001b[0;32m    130\u001b[0m     \u001b[39mfor\u001b[39;00m a \u001b[39min\u001b[39;00m artists:\n\u001b[1;32m--> 131\u001b[0m         a\u001b[39m.\u001b[39;49mdraw(renderer)\n\u001b[0;32m    132\u001b[0m \u001b[39melse\u001b[39;00m:\n\u001b[0;32m    133\u001b[0m     \u001b[39m# Composite any adjacent images together\u001b[39;00m\n\u001b[0;32m    134\u001b[0m     image_group \u001b[39m=\u001b[39m []\n",
      "File \u001b[1;32mc:\\Users\\AlbinTouma\\AppData\\Local\\Programs\\Python\\Python310\\lib\\site-packages\\matplotlib\\artist.py:51\u001b[0m, in \u001b[0;36mallow_rasterization.<locals>.draw_wrapper\u001b[1;34m(artist, renderer)\u001b[0m\n\u001b[0;32m     48\u001b[0m     \u001b[39mif\u001b[39;00m artist\u001b[39m.\u001b[39mget_agg_filter() \u001b[39mis\u001b[39;00m \u001b[39mnot\u001b[39;00m \u001b[39mNone\u001b[39;00m:\n\u001b[0;32m     49\u001b[0m         renderer\u001b[39m.\u001b[39mstart_filter()\n\u001b[1;32m---> 51\u001b[0m     \u001b[39mreturn\u001b[39;00m draw(artist, renderer)\n\u001b[0;32m     52\u001b[0m \u001b[39mfinally\u001b[39;00m:\n\u001b[0;32m     53\u001b[0m     \u001b[39mif\u001b[39;00m artist\u001b[39m.\u001b[39mget_agg_filter() \u001b[39mis\u001b[39;00m \u001b[39mnot\u001b[39;00m \u001b[39mNone\u001b[39;00m:\n",
      "File \u001b[1;32mc:\\Users\\AlbinTouma\\AppData\\Local\\Programs\\Python\\Python310\\lib\\site-packages\\matplotlib\\axis.py:1314\u001b[0m, in \u001b[0;36mAxis.draw\u001b[1;34m(self, renderer, *args, **kwargs)\u001b[0m\n\u001b[0;32m   1308\u001b[0m     tick\u001b[39m.\u001b[39mdraw(renderer)\n\u001b[0;32m   1310\u001b[0m \u001b[39m# Scale up the axis label box to also find the neighbors, not just the\u001b[39;00m\n\u001b[0;32m   1311\u001b[0m \u001b[39m# tick labels that actually overlap.  We need a *copy* of the axis\u001b[39;00m\n\u001b[0;32m   1312\u001b[0m \u001b[39m# label box because we don't want to scale the actual bbox.\u001b[39;00m\n\u001b[1;32m-> 1314\u001b[0m \u001b[39mself\u001b[39;49m\u001b[39m.\u001b[39;49m_update_label_position(renderer)\n\u001b[0;32m   1316\u001b[0m \u001b[39mself\u001b[39m\u001b[39m.\u001b[39mlabel\u001b[39m.\u001b[39mdraw(renderer)\n\u001b[0;32m   1318\u001b[0m \u001b[39mself\u001b[39m\u001b[39m.\u001b[39m_update_offset_text_position(tlb1, tlb2)\n",
      "File \u001b[1;32mc:\\Users\\AlbinTouma\\AppData\\Local\\Programs\\Python\\Python310\\lib\\site-packages\\matplotlib\\axis.py:2252\u001b[0m, in \u001b[0;36mXAxis._update_label_position\u001b[1;34m(self, renderer)\u001b[0m\n\u001b[0;32m   2248\u001b[0m     \u001b[39mreturn\u001b[39;00m\n\u001b[0;32m   2250\u001b[0m \u001b[39m# get bounding boxes for this axis and any siblings\u001b[39;00m\n\u001b[0;32m   2251\u001b[0m \u001b[39m# that have been set by `fig.align_xlabels()`\u001b[39;00m\n\u001b[1;32m-> 2252\u001b[0m bboxes, bboxes2 \u001b[39m=\u001b[39m \u001b[39mself\u001b[39;49m\u001b[39m.\u001b[39;49m_get_tick_boxes_siblings(renderer\u001b[39m=\u001b[39;49mrenderer)\n\u001b[0;32m   2254\u001b[0m x, y \u001b[39m=\u001b[39m \u001b[39mself\u001b[39m\u001b[39m.\u001b[39mlabel\u001b[39m.\u001b[39mget_position()\n\u001b[0;32m   2255\u001b[0m \u001b[39mif\u001b[39;00m \u001b[39mself\u001b[39m\u001b[39m.\u001b[39mlabel_position \u001b[39m==\u001b[39m \u001b[39m'\u001b[39m\u001b[39mbottom\u001b[39m\u001b[39m'\u001b[39m:\n",
      "File \u001b[1;32mc:\\Users\\AlbinTouma\\AppData\\Local\\Programs\\Python\\Python310\\lib\\site-packages\\matplotlib\\axis.py:2056\u001b[0m, in \u001b[0;36mAxis._get_tick_boxes_siblings\u001b[1;34m(self, renderer)\u001b[0m\n\u001b[0;32m   2054\u001b[0m axis \u001b[39m=\u001b[39m \u001b[39mgetattr\u001b[39m(ax, \u001b[39mf\u001b[39m\u001b[39m\"\u001b[39m\u001b[39m{\u001b[39;00maxis_name\u001b[39m}\u001b[39;00m\u001b[39maxis\u001b[39m\u001b[39m\"\u001b[39m)\n\u001b[0;32m   2055\u001b[0m ticks_to_draw \u001b[39m=\u001b[39m axis\u001b[39m.\u001b[39m_update_ticks()\n\u001b[1;32m-> 2056\u001b[0m tlb, tlb2 \u001b[39m=\u001b[39m axis\u001b[39m.\u001b[39;49m_get_ticklabel_bboxes(ticks_to_draw, renderer)\n\u001b[0;32m   2057\u001b[0m bboxes\u001b[39m.\u001b[39mextend(tlb)\n\u001b[0;32m   2058\u001b[0m bboxes2\u001b[39m.\u001b[39mextend(tlb2)\n",
      "File \u001b[1;32mc:\\Users\\AlbinTouma\\AppData\\Local\\Programs\\Python\\Python310\\lib\\site-packages\\matplotlib\\axis.py:1232\u001b[0m, in \u001b[0;36mAxis._get_ticklabel_bboxes\u001b[1;34m(self, ticks, renderer)\u001b[0m\n\u001b[0;32m   1230\u001b[0m \u001b[39mif\u001b[39;00m renderer \u001b[39mis\u001b[39;00m \u001b[39mNone\u001b[39;00m:\n\u001b[0;32m   1231\u001b[0m     renderer \u001b[39m=\u001b[39m \u001b[39mself\u001b[39m\u001b[39m.\u001b[39mfigure\u001b[39m.\u001b[39m_get_renderer()\n\u001b[1;32m-> 1232\u001b[0m \u001b[39mreturn\u001b[39;00m ([tick\u001b[39m.\u001b[39mlabel1\u001b[39m.\u001b[39mget_window_extent(renderer)\n\u001b[0;32m   1233\u001b[0m          \u001b[39mfor\u001b[39;00m tick \u001b[39min\u001b[39;00m ticks \u001b[39mif\u001b[39;00m tick\u001b[39m.\u001b[39mlabel1\u001b[39m.\u001b[39mget_visible()],\n\u001b[0;32m   1234\u001b[0m         [tick\u001b[39m.\u001b[39mlabel2\u001b[39m.\u001b[39mget_window_extent(renderer)\n\u001b[0;32m   1235\u001b[0m          \u001b[39mfor\u001b[39;00m tick \u001b[39min\u001b[39;00m ticks \u001b[39mif\u001b[39;00m tick\u001b[39m.\u001b[39mlabel2\u001b[39m.\u001b[39mget_visible()])\n",
      "File \u001b[1;32mc:\\Users\\AlbinTouma\\AppData\\Local\\Programs\\Python\\Python310\\lib\\site-packages\\matplotlib\\axis.py:1232\u001b[0m, in \u001b[0;36m<listcomp>\u001b[1;34m(.0)\u001b[0m\n\u001b[0;32m   1230\u001b[0m \u001b[39mif\u001b[39;00m renderer \u001b[39mis\u001b[39;00m \u001b[39mNone\u001b[39;00m:\n\u001b[0;32m   1231\u001b[0m     renderer \u001b[39m=\u001b[39m \u001b[39mself\u001b[39m\u001b[39m.\u001b[39mfigure\u001b[39m.\u001b[39m_get_renderer()\n\u001b[1;32m-> 1232\u001b[0m \u001b[39mreturn\u001b[39;00m ([tick\u001b[39m.\u001b[39;49mlabel1\u001b[39m.\u001b[39;49mget_window_extent(renderer)\n\u001b[0;32m   1233\u001b[0m          \u001b[39mfor\u001b[39;00m tick \u001b[39min\u001b[39;00m ticks \u001b[39mif\u001b[39;00m tick\u001b[39m.\u001b[39mlabel1\u001b[39m.\u001b[39mget_visible()],\n\u001b[0;32m   1234\u001b[0m         [tick\u001b[39m.\u001b[39mlabel2\u001b[39m.\u001b[39mget_window_extent(renderer)\n\u001b[0;32m   1235\u001b[0m          \u001b[39mfor\u001b[39;00m tick \u001b[39min\u001b[39;00m ticks \u001b[39mif\u001b[39;00m tick\u001b[39m.\u001b[39mlabel2\u001b[39m.\u001b[39mget_visible()])\n",
      "File \u001b[1;32mc:\\Users\\AlbinTouma\\AppData\\Local\\Programs\\Python\\Python310\\lib\\site-packages\\matplotlib\\text.py:915\u001b[0m, in \u001b[0;36mText.get_window_extent\u001b[1;34m(self, renderer, dpi)\u001b[0m\n\u001b[0;32m    910\u001b[0m     \u001b[39mraise\u001b[39;00m \u001b[39mRuntimeError\u001b[39;00m(\n\u001b[0;32m    911\u001b[0m         \u001b[39m\"\u001b[39m\u001b[39mCannot get window extent of text w/o renderer. You likely \u001b[39m\u001b[39m\"\u001b[39m\n\u001b[0;32m    912\u001b[0m         \u001b[39m\"\u001b[39m\u001b[39mwant to call \u001b[39m\u001b[39m'\u001b[39m\u001b[39mfigure.draw_without_rendering()\u001b[39m\u001b[39m'\u001b[39m\u001b[39m first.\u001b[39m\u001b[39m\"\u001b[39m)\n\u001b[0;32m    914\u001b[0m \u001b[39mwith\u001b[39;00m cbook\u001b[39m.\u001b[39m_setattr_cm(\u001b[39mself\u001b[39m\u001b[39m.\u001b[39mfigure, dpi\u001b[39m=\u001b[39mdpi):\n\u001b[1;32m--> 915\u001b[0m     bbox, info, descent \u001b[39m=\u001b[39m \u001b[39mself\u001b[39;49m\u001b[39m.\u001b[39;49m_get_layout(\u001b[39mself\u001b[39;49m\u001b[39m.\u001b[39;49m_renderer)\n\u001b[0;32m    916\u001b[0m     x, y \u001b[39m=\u001b[39m \u001b[39mself\u001b[39m\u001b[39m.\u001b[39mget_unitless_position()\n\u001b[0;32m    917\u001b[0m     x, y \u001b[39m=\u001b[39m \u001b[39mself\u001b[39m\u001b[39m.\u001b[39mget_transform()\u001b[39m.\u001b[39mtransform((x, y))\n",
      "File \u001b[1;32mc:\\Users\\AlbinTouma\\AppData\\Local\\Programs\\Python\\Python310\\lib\\site-packages\\matplotlib\\text.py:321\u001b[0m, in \u001b[0;36mText._get_layout\u001b[1;34m(self, renderer)\u001b[0m\n\u001b[0;32m    319\u001b[0m clean_line, ismath \u001b[39m=\u001b[39m \u001b[39mself\u001b[39m\u001b[39m.\u001b[39m_preprocess_math(line)\n\u001b[0;32m    320\u001b[0m \u001b[39mif\u001b[39;00m clean_line:\n\u001b[1;32m--> 321\u001b[0m     w, h, d \u001b[39m=\u001b[39m _get_text_metrics_with_cache(\n\u001b[0;32m    322\u001b[0m         renderer, clean_line, \u001b[39mself\u001b[39;49m\u001b[39m.\u001b[39;49m_fontproperties,\n\u001b[0;32m    323\u001b[0m         ismath\u001b[39m=\u001b[39;49mismath, dpi\u001b[39m=\u001b[39;49m\u001b[39mself\u001b[39;49m\u001b[39m.\u001b[39;49mfigure\u001b[39m.\u001b[39;49mdpi)\n\u001b[0;32m    324\u001b[0m \u001b[39melse\u001b[39;00m:\n\u001b[0;32m    325\u001b[0m     w \u001b[39m=\u001b[39m h \u001b[39m=\u001b[39m d \u001b[39m=\u001b[39m \u001b[39m0\u001b[39m\n",
      "File \u001b[1;32mc:\\Users\\AlbinTouma\\AppData\\Local\\Programs\\Python\\Python310\\lib\\site-packages\\matplotlib\\text.py:97\u001b[0m, in \u001b[0;36m_get_text_metrics_with_cache\u001b[1;34m(renderer, text, fontprop, ismath, dpi)\u001b[0m\n\u001b[0;32m     94\u001b[0m \u001b[39m\"\"\"Call ``renderer.get_text_width_height_descent``, caching the results.\"\"\"\u001b[39;00m\n\u001b[0;32m     95\u001b[0m \u001b[39m# Cached based on a copy of fontprop so that later in-place mutations of\u001b[39;00m\n\u001b[0;32m     96\u001b[0m \u001b[39m# the passed-in argument do not mess up the cache.\u001b[39;00m\n\u001b[1;32m---> 97\u001b[0m \u001b[39mreturn\u001b[39;00m _get_text_metrics_with_cache_impl(\n\u001b[0;32m     98\u001b[0m     weakref\u001b[39m.\u001b[39;49mref(renderer), text, fontprop\u001b[39m.\u001b[39;49mcopy(), ismath, dpi)\n",
      "File \u001b[1;32mc:\\Users\\AlbinTouma\\AppData\\Local\\Programs\\Python\\Python310\\lib\\site-packages\\matplotlib\\text.py:105\u001b[0m, in \u001b[0;36m_get_text_metrics_with_cache_impl\u001b[1;34m(renderer_ref, text, fontprop, ismath, dpi)\u001b[0m\n\u001b[0;32m    101\u001b[0m \u001b[39m@functools\u001b[39m\u001b[39m.\u001b[39mlru_cache(\u001b[39m4096\u001b[39m)\n\u001b[0;32m    102\u001b[0m \u001b[39mdef\u001b[39;00m \u001b[39m_get_text_metrics_with_cache_impl\u001b[39m(\n\u001b[0;32m    103\u001b[0m         renderer_ref, text, fontprop, ismath, dpi):\n\u001b[0;32m    104\u001b[0m     \u001b[39m# dpi is unused, but participates in cache invalidation (via the renderer).\u001b[39;00m\n\u001b[1;32m--> 105\u001b[0m     \u001b[39mreturn\u001b[39;00m renderer_ref()\u001b[39m.\u001b[39;49mget_text_width_height_descent(text, fontprop, ismath)\n",
      "File \u001b[1;32mc:\\Users\\AlbinTouma\\AppData\\Local\\Programs\\Python\\Python310\\lib\\site-packages\\matplotlib\\backends\\backend_agg.py:239\u001b[0m, in \u001b[0;36mRendererAgg.get_text_width_height_descent\u001b[1;34m(self, s, prop, ismath)\u001b[0m\n\u001b[0;32m    236\u001b[0m     \u001b[39mreturn\u001b[39;00m width, height, descent\n\u001b[0;32m    238\u001b[0m font \u001b[39m=\u001b[39m \u001b[39mself\u001b[39m\u001b[39m.\u001b[39m_prepare_font(prop)\n\u001b[1;32m--> 239\u001b[0m font\u001b[39m.\u001b[39;49mset_text(s, \u001b[39m0.0\u001b[39;49m, flags\u001b[39m=\u001b[39;49mget_hinting_flag())\n\u001b[0;32m    240\u001b[0m w, h \u001b[39m=\u001b[39m font\u001b[39m.\u001b[39mget_width_height()  \u001b[39m# width and height of unrotated string\u001b[39;00m\n\u001b[0;32m    241\u001b[0m d \u001b[39m=\u001b[39m font\u001b[39m.\u001b[39mget_descent()\n",
      "\u001b[1;31mKeyboardInterrupt\u001b[0m: "
     ]
    }
   ],
   "source": [
    "primary_identifiers = ['score.age', 'score.place_of_birth', 'score.picture', 'score.primary']\n",
    "#df[['score.primary', 'score.secondary', 'score.other', 'score.data_quality']]\n",
    "df[primary_identifiers].sort_values(by='score.primary', ascending=False).reset_index().value_counts().plot(kind='bar')"
   ]
  }
 ],
 "metadata": {
  "kernelspec": {
   "display_name": "Python 3 (ipykernel)",
   "language": "python",
   "name": "python3"
  },
  "language_info": {
   "codemirror_mode": {
    "name": "ipython",
    "version": 3
   },
   "file_extension": ".py",
   "mimetype": "text/x-python",
   "name": "python",
   "nbconvert_exporter": "python",
   "pygments_lexer": "ipython3",
   "version": "3.10.12"
  }
 },
 "nbformat": 4,
 "nbformat_minor": 5
}
