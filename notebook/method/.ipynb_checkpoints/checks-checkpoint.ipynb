{
 "cells": [
  {
   "cell_type": "code",
   "execution_count": 2,
   "metadata": {},
   "outputs": [],
   "source": [
    "import pandas as pd\n",
    "from tqdm import tqdm\n",
    "import os\n",
    "import numpy as np\n",
    "import plotly.graph_objects as go\n",
    "import matplotlib.pyplot as plt\n",
    "from matplotlib_venn import venn3\n",
    "from dataclasses import dataclass"
   ]
  },
  {
   "cell_type": "code",
   "execution_count": 3,
   "metadata": {},
   "outputs": [],
   "source": [
    "df = pd.read_parquet('../../parquet/DBPedia.parquet')"
   ]
  },
  {
   "cell_type": "code",
   "execution_count": 6,
   "metadata": {},
   "outputs": [
    {
     "data": {
      "text/plain": [
       "Index(['_id', '_source.sources.source_ids', '_source.data.aml_types.aml_type',\n",
       "       '_source.data.aml_types.end_date', '_source.data.aml_types.start_date',\n",
       "       '_source.data.births.max_date', '_source.data.births.min_date',\n",
       "       '_source.data.births.age', '_source.data.entity_types.entity_type',\n",
       "       '_source.data.genders.gender', '_source.data.hidden_fields.title',\n",
       "       '_source.data.hidden_fields.value',\n",
       "       '_source.data.locations.location_type', '_source.data.locations.name',\n",
       "       '_source.data.names.name', '_source.data.names.name_type',\n",
       "       '_source.data.names.aliases', '_source.data.names.primary_name',\n",
       "       '_source.data.nationalities.country_code',\n",
       "       '_source.data.occupations.occupation',\n",
       "       '_source.data.number_aml_type_in_display_field', '_source.source_data',\n",
       "       '_source.data.associations.association_entity_id',\n",
       "       '_source.data.associations.association_name',\n",
       "       '_source.data.associations.association_type',\n",
       "       '_source.data.associations.associations_count',\n",
       "       '_source.data.display_fields.title',\n",
       "       '_source.data.display_fields.value', '_source.data.deaths.max_date',\n",
       "       '_source.data.deaths.min_date', '_source.data.deaths.years_since_death',\n",
       "       'PEP_id', 'Primary', 'Secondary', 'completeness'],\n",
       "      dtype='object')"
      ]
     },
     "execution_count": 6,
     "metadata": {},
     "output_type": "execute_result"
    }
   ],
   "source": [
    "df.columns"
   ]
  },
  {
   "cell_type": "code",
   "execution_count": null,
   "metadata": {},
   "outputs": [],
   "source": [
    "@dataclass\n",
    "class DataPreparation:\n",
    "    data: pd.DataFrame\n",
    "    \n",
    "    def data_preparation(self):\n",
    "        self.data['_source.sources.source_ids'] = self.data['_source.sources.source_ids'].apply(lambda x: ', '.join(map(str, x)))\n",
    "        self.data['completeness'] = self.data['completeness'].replace(0, 'incomplete')\n",
    "        return self.data\n",
    "    \n",
    "    def filter_rca_dbpedia(self):\n",
    "        '''Filter DF removes RCAs and selects for limits df to the 4 sources that represent 97 percent of data'''\n",
    "        RCA_DBPEDIA = self.data[(self.data['_source.sources.source_ids'] == 'S:FBFYW0 [DBPedia]') & (self.data['PEP_id'] == False)]\n",
    "        self.data.drop(RCA_DBPEDIA.index, inplace=True)\n",
    "\n",
    "    def select_sources(self):\n",
    "        LIST_SOURCE_SOURCE_IDS = ['S:FBFYW0 [DBPedia]','S:4CU7GM [PEP Everypolitician]', 'S:8L276A [Manual PEPs]', 'S:1GYJGG [The Official Board]', 'S:MFCNUA [PEP US Diplomat list 2]']\n",
    "        self.data = self.data[self.data['_source.sources.source_ids'].isin(LIST_SOURCE_SOURCE_IDS)]\n",
    "        return self.data\n",
    "      \n",
    "    def prepare_data(self):\n",
    "        self.data_preparation()\n",
    "        self.filter_rca_dbpedia()\n",
    "        self.select_sources()\n",
    "        return self.data"
   ]
  }
 ],
 "metadata": {
  "kernelspec": {
   "display_name": "Python 3",
   "language": "python",
   "name": "python3"
  },
  "language_info": {
   "codemirror_mode": {
    "name": "ipython",
    "version": 3
   },
   "file_extension": ".py",
   "mimetype": "text/x-python",
   "name": "python",
   "nbconvert_exporter": "python",
   "pygments_lexer": "ipython3",
   "version": "3.10.7"
  }
 },
 "nbformat": 4,
 "nbformat_minor": 2
}
