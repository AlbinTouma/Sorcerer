{
 "cells": [
  {
   "cell_type": "code",
   "execution_count": 2,
   "metadata": {},
   "outputs": [],
   "source": [
    "import requests\n",
    "import traceback\n",
    "import json\n",
    "import timeit\n",
    "import pandas as pd"
   ]
  },
  {
   "cell_type": "markdown",
   "metadata": {},
   "source": [
    "Configuration\n"
   ]
  },
  {
   "cell_type": "code",
   "execution_count": 3,
   "metadata": {},
   "outputs": [],
   "source": [
    "url = ELASTICS_SEARCH_URL\n",
    "scroll_time = \"1m\"\n",
    "page_size = 10000"
   ]
  },
  {
   "cell_type": "markdown",
   "metadata": {},
   "source": [
    "Build Query"
   ]
  },
  {
   "cell_type": "code",
   "execution_count": 4,
   "metadata": {},
   "outputs": [],
   "source": [
    "query_comp1 = {\n",
    "    \"size\": page_size,\n",
    "    \"query\": {\n",
    "        \"bool\": {\n",
    "            \"must\": [\n",
    "                {\n",
    "                    \"match_phrase\": {\n",
    "                        \"source_ids_original\": \"S:1GYJGG\"\n",
    "                    }\n",
    "                },\n",
    "                {\n",
    "                    \"match_phrase\": {\n",
    "                        \"meta.document_type_code\": \"SM\"\n",
    "                    }\n",
    "                }\n",
    "            ]\n",
    "        }\n",
    "    },\n",
    "    \"sort\": [{\"meta.updated_utc\": {\"order\": \"desc\"}}]\n",
    "}\n",
    "query = {**query_comp1}"
   ]
  },
  {
   "cell_type": "markdown",
   "metadata": {},
   "source": [
    "Call ElasticSearch API"
   ]
  },
  {
   "cell_type": "code",
   "execution_count": 5,
   "metadata": {},
   "outputs": [],
   "source": [
    "def elastic_search():\n",
    "    # Container for all retrieved documents\n",
    "    all_documents = []\n",
    "\n",
    "    try:\n",
    "        # Initial search request with scroll parameter in the query string\n",
    "        r = requests.post(\n",
    "            url + \"?scroll=\" + scroll_time, json=query)\n",
    "\n",
    "        res = r.json()\n",
    "\n",
    "        # Extract the initial results\n",
    "        hits = res.get('hits').get('hits')\n",
    "        all_documents.extend(hits)\n",
    "\n",
    "        # Get the scroll ID for the next page\n",
    "        scroll_id = res.get(\"_scroll_id\")\n",
    "\n",
    "        while True:\n",
    "            # Perform the scroll using POST request\n",
    "            scroll_response = requests.post(\n",
    "                \"https://analytics-es.k8s.euw1.data-production-1.ivxs.uk/_search/scroll\", json={\"scroll\": scroll_time, \"scroll_id\": scroll_id})\n",
    "            scroll_data = scroll_response.json()\n",
    "\n",
    "            if \"hits\" not in scroll_data or not scroll_data.get('hits', {}).get('hits', []):\n",
    "                break  # No more results to retrieve\n",
    "\n",
    "            # Append the new results to the existing hits\n",
    "            hits = scroll_data[\"hits\"][\"hits\"]\n",
    "            all_documents.extend(hits)\n",
    "\n",
    "            # Get the scroll ID for the next page\n",
    "            scroll_id = scroll_data[\"_scroll_id\"]\n",
    "\n",
    "    except Exception as e:\n",
    "        traceback.print_exc()\n",
    "        print(f\"Error while retrieving data: {str(e)}\")\n",
    "\n",
    "    print(f\"Total documents retrieved: {len(all_documents)}\")\n",
    "\n",
    "    return all_documents"
   ]
  },
  {
   "cell_type": "markdown",
   "metadata": {},
   "source": [
    "Normalise JSON response"
   ]
  },
  {
   "cell_type": "code",
   "execution_count": 8,
   "metadata": {},
   "outputs": [],
   "source": [
    "def normalise_response(response):\n",
    "    normalised_df = pd.json_normalize(response)\n",
    "    return normalised_df"
   ]
  },
  {
   "cell_type": "code",
   "execution_count": 9,
   "metadata": {},
   "outputs": [],
   "source": [
    "def main():\n",
    "    response = elastic_search()\n",
    "    normalised_response = normalise_response(response)\n",
    "    normalised_response.to_parquet('../../parquet/TheOfficialBoard.parquet')"
   ]
  },
  {
   "cell_type": "code",
   "execution_count": 11,
   "metadata": {},
   "outputs": [
    {
     "name": "stdout",
     "output_type": "stream",
     "text": [
      "Total documents retrieved: 20923\n"
     ]
    },
    {
     "name": "stderr",
     "output_type": "stream",
     "text": [
      "c:\\Users\\AlbinTouma\\AppData\\Local\\Programs\\Python\\Python310\\lib\\site-packages\\pyarrow\\pandas_compat.py:373: FutureWarning: is_sparse is deprecated and will be removed in a future version. Check `isinstance(dtype, pd.SparseDtype)` instead.\n",
      "  if _pandas_api.is_sparse(col):\n"
     ]
    }
   ],
   "source": [
    "if __name__ == '__main__':\n",
    "    main()"
   ]
  }
 ],
 "metadata": {
  "kernelspec": {
   "display_name": "Python 3 (ipykernel)",
   "language": "python",
   "name": "python3"
  },
  "language_info": {
   "codemirror_mode": {
    "name": "ipython",
    "version": 3
   },
   "file_extension": ".py",
   "mimetype": "text/x-python",
   "name": "python",
   "nbconvert_exporter": "python",
   "pygments_lexer": "ipython3",
   "version": "3.10.12"
  }
 },
 "nbformat": 4,
 "nbformat_minor": 4
}
