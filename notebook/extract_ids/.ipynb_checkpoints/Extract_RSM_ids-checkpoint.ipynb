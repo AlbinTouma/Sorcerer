{
 "cells": [
  {
   "cell_type": "code",
   "execution_count": 1,
   "id": "5289caaa-262f-4583-8151-0153ff21e720",
   "metadata": {},
   "outputs": [],
   "source": [
    "# Use list of SM ids to extract P ids and RSM ids"
   ]
  },
  {
   "cell_type": "code",
   "execution_count": 15,
   "id": "405dd566-0260-4853-8d19-d8da049573fa",
   "metadata": {},
   "outputs": [],
   "source": [
    "import requests\n",
    "import traceback\n",
    "import json\n",
    "import timeit\n",
    "import pandas as pd"
   ]
  },
  {
   "cell_type": "code",
   "execution_count": 16,
   "id": "d21a9cfa-8ab7-47fe-ac05-c82226361237",
   "metadata": {},
   "outputs": [],
   "source": [
    "#Load Source ids\n",
    "ids = pd.read_csv('./ids.csv')\n",
    "sm_ids = ids['ids'].to_list()"
   ]
  },
  {
   "cell_type": "code",
   "execution_count": 17,
   "id": "52a3af00-79c8-434c-b27e-9d41579ffc28",
   "metadata": {},
   "outputs": [],
   "source": [
    "# Sorcerer removes files that we need for this analysis so we need to query Kibana and get raw data. \n",
    "\n",
    "url = ELASTIC SEARCH\n",
    "scroll_time = \"1m\"\n",
    "page_size = 10000\n",
    "\n",
    "# Build the query based on the source_id.\n",
    "def build_query(source_id):\n",
    "    query_comp1 = {\n",
    "        \"size\": page_size,\n",
    "        \"query\": {\n",
    "            \"bool\": {\n",
    "                \"must\": [\n",
    "                    {\n",
    "                        \"match_phrase\": {\n",
    "                            \"source_ids_original\": f\"{source_id}\"\n",
    "                        }\n",
    "                    },\n",
    "                    {\n",
    "                        \"match_phrase\": {\n",
    "                            \"meta.document_type_code\": \"SM\"\n",
    "                        }\n",
    "                    }\n",
    "                ]\n",
    "            }\n",
    "        },\n",
    "        \"sort\": [{\"meta.updated_utc\": {\"order\": \"desc\"}}]\n",
    "    }\n",
    "\n",
    "    query = {**query_comp1}\n",
    "\n",
    "    return query\n",
    "\n",
    "# Build the elastic search query and fetch the API with scroll\n",
    "def elastic_search(source_id):\n",
    "    # Container for all retrieved documents\n",
    "    all_documents = []\n",
    "    query = build_query(source_id)\n",
    "\n",
    "    try:\n",
    "        # Initial search request with scroll parameter in the query string\n",
    "        r = requests.post(\n",
    "            url + \"?scroll=\" + scroll_time, json=query)\n",
    "\n",
    "        res = r.json()\n",
    "\n",
    "        # Extract the initial results\n",
    "        hits = res.get('hits').get('hits')\n",
    "        all_documents.extend(hits)\n",
    "\n",
    "        # Get the scroll ID for the next page\n",
    "        scroll_id = res.get(\"_scroll_id\")\n",
    "\n",
    "        while True:\n",
    "            # Perform the scroll using POST request\n",
    "            scroll_response = requests.post(\n",
    "                \"https://analytics-es.k8s.euw1.data-production-1.ivxs.uk/_search/scroll\", json={\"scroll\": scroll_time, \"scroll_id\": scroll_id})\n",
    "            scroll_data = scroll_response.json()\n",
    "\n",
    "            if \"hits\" not in scroll_data or not scroll_data.get('hits', {}).get('hits', []):\n",
    "                break  # No more results to retrieve\n",
    "\n",
    "            # Append the new results to the existing hits\n",
    "            hits = scroll_data[\"hits\"][\"hits\"]\n",
    "            all_documents.extend(hits)\n",
    "\n",
    "            # Get the scroll ID for the next page\n",
    "            scroll_id = scroll_data[\"_scroll_id\"]\n",
    "\n",
    "    except Exception as e:\n",
    "        traceback.print_exc()\n",
    "        print(f\"Error while retrieving data: {str(e)}\")\n",
    "\n",
    "    # print(f\"Total documents retrieved: {len(all_documents)}\")\n",
    "\n",
    "    return all_documents"
   ]
  },
  {
   "cell_type": "code",
   "execution_count": 18,
   "id": "45c9a3b7-b90e-42a5-9467-405d8692acd1",
   "metadata": {},
   "outputs": [],
   "source": [
    "db = elastic_search('S:FBFYW0')"
   ]
  },
  {
   "cell_type": "code",
   "execution_count": 19,
   "id": "80a24bad-c3e9-4942-a673-0405f7af351e",
   "metadata": {},
   "outputs": [],
   "source": [
    "db = pd.json_normalize(db)"
   ]
  },
  {
   "cell_type": "code",
   "execution_count": 24,
   "id": "f85f776b-1319-49f2-abc3-3de8e0ab07ab",
   "metadata": {},
   "outputs": [
    {
     "data": {
      "text/html": [
       "<div>\n",
       "<style scoped>\n",
       "    .dataframe tbody tr th:only-of-type {\n",
       "        vertical-align: middle;\n",
       "    }\n",
       "\n",
       "    .dataframe tbody tr th {\n",
       "        vertical-align: top;\n",
       "    }\n",
       "\n",
       "    .dataframe thead th {\n",
       "        text-align: right;\n",
       "    }\n",
       "</style>\n",
       "<table border=\"1\" class=\"dataframe\">\n",
       "  <thead>\n",
       "    <tr style=\"text-align: right;\">\n",
       "      <th></th>\n",
       "      <th>_id</th>\n",
       "      <th>_source.meta.derived_entity_ids</th>\n",
       "      <th>_source.meta.entity_id</th>\n",
       "      <th>_source.meta.source_entity_ids</th>\n",
       "    </tr>\n",
       "  </thead>\n",
       "  <tbody>\n",
       "    <tr>\n",
       "      <th>0</th>\n",
       "      <td>SM:S:FBFYW0:Q631864</td>\n",
       "      <td>[P:GW6OK4Q4QYE3NQD]</td>\n",
       "      <td>SM:S:FBFYW0:Q631864 [DBPedia]</td>\n",
       "      <td>[MO::SM:S:FBFYW0:Q631864 [DBPedia], RSM:S:FBFY...</td>\n",
       "    </tr>\n",
       "    <tr>\n",
       "      <th>1</th>\n",
       "      <td>SM:S:FBFYW0:Q311440</td>\n",
       "      <td>[P:RMPLY01QH5T6AU]</td>\n",
       "      <td>SM:S:FBFYW0:Q311440 [DBPedia]</td>\n",
       "      <td>[MO::SM:S:FBFYW0:Q311440 [DBPedia], RSM:S:FBFY...</td>\n",
       "    </tr>\n",
       "    <tr>\n",
       "      <th>2</th>\n",
       "      <td>SM:S:FBFYW0:Q5537893</td>\n",
       "      <td>[P:AGX9P6R5L99XJ07]</td>\n",
       "      <td>SM:S:FBFYW0:Q5537893 [DBPedia]</td>\n",
       "      <td>[MO::SM:S:FBFYW0:Q5537893 [DBPedia], RSM:S:FBF...</td>\n",
       "    </tr>\n",
       "    <tr>\n",
       "      <th>3</th>\n",
       "      <td>SM:S:FBFYW0:Q132596</td>\n",
       "      <td>[P:7N6M2PZLG6VL47J]</td>\n",
       "      <td>SM:S:FBFYW0:Q132596 [DBPedia]</td>\n",
       "      <td>[MO::SM:S:FBFYW0:Q132596 [DBPedia], RSM:S:FBFY...</td>\n",
       "    </tr>\n",
       "    <tr>\n",
       "      <th>4</th>\n",
       "      <td>SM:S:FBFYW0:Q22686_3</td>\n",
       "      <td>[P:BTWCDLKKCMI85JT]</td>\n",
       "      <td>SM:S:FBFYW0:Q22686_3 [DBPedia]</td>\n",
       "      <td>[MO::SM:S:FBFYW0:Q22686_3 [DBPedia], RSM:S:FBF...</td>\n",
       "    </tr>\n",
       "  </tbody>\n",
       "</table>\n",
       "</div>"
      ],
      "text/plain": [
       "                    _id _source.meta.derived_entity_ids  \\\n",
       "0   SM:S:FBFYW0:Q631864             [P:GW6OK4Q4QYE3NQD]   \n",
       "1   SM:S:FBFYW0:Q311440              [P:RMPLY01QH5T6AU]   \n",
       "2  SM:S:FBFYW0:Q5537893             [P:AGX9P6R5L99XJ07]   \n",
       "3   SM:S:FBFYW0:Q132596             [P:7N6M2PZLG6VL47J]   \n",
       "4  SM:S:FBFYW0:Q22686_3             [P:BTWCDLKKCMI85JT]   \n",
       "\n",
       "           _source.meta.entity_id  \\\n",
       "0   SM:S:FBFYW0:Q631864 [DBPedia]   \n",
       "1   SM:S:FBFYW0:Q311440 [DBPedia]   \n",
       "2  SM:S:FBFYW0:Q5537893 [DBPedia]   \n",
       "3   SM:S:FBFYW0:Q132596 [DBPedia]   \n",
       "4  SM:S:FBFYW0:Q22686_3 [DBPedia]   \n",
       "\n",
       "                      _source.meta.source_entity_ids  \n",
       "0  [MO::SM:S:FBFYW0:Q631864 [DBPedia], RSM:S:FBFY...  \n",
       "1  [MO::SM:S:FBFYW0:Q311440 [DBPedia], RSM:S:FBFY...  \n",
       "2  [MO::SM:S:FBFYW0:Q5537893 [DBPedia], RSM:S:FBF...  \n",
       "3  [MO::SM:S:FBFYW0:Q132596 [DBPedia], RSM:S:FBFY...  \n",
       "4  [MO::SM:S:FBFYW0:Q22686_3 [DBPedia], RSM:S:FBF...  "
      ]
     },
     "execution_count": 24,
     "metadata": {},
     "output_type": "execute_result"
    }
   ],
   "source": [
    "db[['_id', '_source.meta.derived_entity_ids', '_source.meta.entity_id', '_source.meta.source_entity_ids']].head(5)"
   ]
  },
  {
   "cell_type": "code",
   "execution_count": 119,
   "id": "a1f1e92c-1855-44c1-8321-c8126db89780",
   "metadata": {},
   "outputs": [],
   "source": [
    "#Filter db based on 2860 sm_ids\n",
    "db = db[db['_id'].isin(sm_ids)]\n",
    "sm_ids = db['_id']"
   ]
  },
  {
   "cell_type": "code",
   "execution_count": 96,
   "id": "43e84d8f-f911-47b3-9a6e-59decba8a907",
   "metadata": {},
   "outputs": [],
   "source": [
    "#Primary id is inside  _source.source_ids_original\n",
    "remove_list = lambda x: ', '.join(map(str, x))\n",
    "primary_ids = db['_source.source_ids_original'].apply(remove_list)"
   ]
  },
  {
   "cell_type": "code",
   "execution_count": 107,
   "id": "439657c1-5447-40a5-a615-c0260a0c6340",
   "metadata": {},
   "outputs": [],
   "source": [
    "db.filter(like='_source.meta')\n",
    "filter_rsm = lambda x: [id for id in x if id.startswith('RSM')]\n",
    "rsm_ids = db['_source.meta.source_entity_ids'].apply(filter_rsm).apply(remove_list).apply(lambda x: x.strip('[DBPedia]'))\n"
   ]
  },
  {
   "cell_type": "code",
   "execution_count": 123,
   "id": "cd3bf417-dacc-48d3-b615-063faa0e6d8b",
   "metadata": {},
   "outputs": [],
   "source": [
    "pd.concat([sm_ids, rsm_ids, primary_ids], axis=1).to_excel('RSM.xlsx')"
   ]
  }
 ],
 "metadata": {
  "kernelspec": {
   "display_name": "Python 3 (ipykernel)",
   "language": "python",
   "name": "python3"
  },
  "language_info": {
   "codemirror_mode": {
    "name": "ipython",
    "version": 3
   },
   "file_extension": ".py",
   "mimetype": "text/x-python",
   "name": "python",
   "nbconvert_exporter": "python",
   "pygments_lexer": "ipython3",
   "version": "3.10.12"
  },
  "widgets": {
   "application/vnd.jupyter.widget-state+json": {
    "state": {},
    "version_major": 2,
    "version_minor": 0
   }
  }
 },
 "nbformat": 4,
 "nbformat_minor": 5
}
