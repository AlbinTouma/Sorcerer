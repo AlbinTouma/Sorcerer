{
 "cells": [
  {
   "cell_type": "code",
   "execution_count": 5,
   "id": "f9431ee7-86fd-4a06-be35-8a00af21bff6",
   "metadata": {},
   "outputs": [
    {
     "ename": "TypeError",
     "evalue": "'module' object is not callable",
     "output_type": "error",
     "traceback": [
      "\u001b[0;31m---------------------------------------------------------------------------\u001b[0m",
      "\u001b[0;31mTypeError\u001b[0m                                 Traceback (most recent call last)",
      "\u001b[0;32m/tmp/ipykernel_5619/3469233648.py\u001b[0m in \u001b[0;36m<module>\u001b[0;34m\u001b[0m\n\u001b[1;32m     10\u001b[0m \u001b[0;34m\u001b[0m\u001b[0m\n\u001b[1;32m     11\u001b[0m \u001b[0;34m\u001b[0m\u001b[0m\n\u001b[0;32m---> 12\u001b[0;31m \u001b[0;32mfor\u001b[0m \u001b[0minput_file\u001b[0m \u001b[0;32min\u001b[0m \u001b[0mtqdm\u001b[0m\u001b[0;34m(\u001b[0m\u001b[0minput_files\u001b[0m\u001b[0;34m)\u001b[0m\u001b[0;34m:\u001b[0m\u001b[0;34m\u001b[0m\u001b[0;34m\u001b[0m\u001b[0m\n\u001b[0m\u001b[1;32m     13\u001b[0m         \u001b[0minput_file_path\u001b[0m \u001b[0;34m=\u001b[0m \u001b[0mos\u001b[0m\u001b[0;34m.\u001b[0m\u001b[0mpath\u001b[0m\u001b[0;34m.\u001b[0m\u001b[0mjoin\u001b[0m\u001b[0;34m(\u001b[0m\u001b[0minput_directory\u001b[0m\u001b[0;34m,\u001b[0m \u001b[0minput_file\u001b[0m\u001b[0;34m)\u001b[0m\u001b[0;34m\u001b[0m\u001b[0;34m\u001b[0m\u001b[0m\n\u001b[1;32m     14\u001b[0m         \u001b[0mdata\u001b[0m \u001b[0;34m=\u001b[0m \u001b[0mpd\u001b[0m\u001b[0;34m.\u001b[0m\u001b[0mread_parquet\u001b[0m\u001b[0;34m(\u001b[0m\u001b[0minput_file_path\u001b[0m\u001b[0;34m)\u001b[0m\u001b[0;34m\u001b[0m\u001b[0;34m\u001b[0m\u001b[0m\n",
      "\u001b[0;31mTypeError\u001b[0m: 'module' object is not callable"
     ]
    }
   ],
   "source": [
    "import pandas as pd\n",
    "import os\n",
    "import tqdm\n",
    "\n",
    "input_directory = '../../sorcerer/src/parquet/'\n",
    "input_files = [f for f in os.listdir(\n",
    "        input_directory) if f.endswith('.parquet')]\n",
    "\n",
    "list_df = []   \n",
    "\n",
    "\n",
    "for input_file in tqdm(input_files):\n",
    "        input_file_path = os.path.join(input_directory, input_file)\n",
    "        data = pd.read_parquet(input_file_path)\n",
    "        list_df.append(data)\n",
    "\n",
    "df = pd.concat(list_df).reset_index(drop=True)\n",
    "df = df.fillna(0)\n",
    "\n",
    "def data_preparation(data):\n",
    "        #data['_source.sources.source_ids'] = df['_source.sources.source_ids'].apply(lambda x: convert_array_to_list(x))\n",
    "        data['_source.sources.source_ids'] = data['_source.sources.source_ids'].apply(lambda x: ', '.join(map(str, x)))\n",
    "        data['completeness'] = data['completeness'].replace(0, 'incomplete')\n",
    "        return data\n",
    "\n",
    "def select_sources(data):\n",
    "        LIST_SOURCE_SOURCE_IDS = ['S:FBFYW0 [DBPedia]','S:4CU7GM [PEP Everypolitician]', 'S:8L276A [Manual PEPs]', 'S:1GYJGG [The Official Board]', 'S:MFCNUA [PEP US Diplomat list 2]']\n",
    "        data = data[data['_source.sources.source_ids'].isin(LIST_SOURCE_SOURCE_IDS)]\n",
    "        return data\n",
    "\n",
    "def drop_rca(data):\n",
    "    RCA_DBPEDIA = data[(data['_source.sources.source_ids'] == 'S:FBFYW0 [DBPedia]') & (data['PEP_id'] == False)]\n",
    "    to_drop = RCA_DBPEDIA\n",
    "    return to_drop\n",
    "\n",
    "\n",
    "\n",
    "df = data_preparation(df)   \n",
    "df = select_sources(df)   \n",
    "to_drop = drop_rca(df)\n",
    "df.drop(to_drop.index, inplace=True)"
   ]
  }
 ],
 "metadata": {
  "kernelspec": {
   "display_name": "Python 3 (ipykernel)",
   "language": "python",
   "name": "python3"
  },
  "language_info": {
   "codemirror_mode": {
    "name": "ipython",
    "version": 3
   },
   "file_extension": ".py",
   "mimetype": "text/x-python",
   "name": "python",
   "nbconvert_exporter": "python",
   "pygments_lexer": "ipython3",
   "version": "3.11.7"
  },
  "widgets": {
   "application/vnd.jupyter.widget-state+json": {
    "state": {},
    "version_major": 2,
    "version_minor": 0
   }
  }
 },
 "nbformat": 4,
 "nbformat_minor": 5
}
