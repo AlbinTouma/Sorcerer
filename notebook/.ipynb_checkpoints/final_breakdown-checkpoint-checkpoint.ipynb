{
 "cells": [
  {
   "cell_type": "markdown",
   "id": "01d080c5-0303-451f-b4d6-9390ae2c8bf1",
   "metadata": {
    "editable": true,
    "slideshow": {
     "slide_type": ""
    },
    "tags": []
   },
   "source": [
    "# Tier System\n",
    "\n",
    "Based on [PEP legacy data fields](https://docs.google.com/document/d/1Qsk7q9GZRt91NSigvEirEWQUdj82B1tGaVYyPKKlE8c/edit?usp=sharing) we place PEPs into different tiers based on whether they have valid data certain data fields: T1, T2, T3, Good Enough, Insufficient, and Rejected. This is different from using a data quality score to compare PEPs since a PEP from tier one can have a lower overall data quality score than a PEP from another tier that has more valid data but fewer of the data fields considered important in our new tier system. In contrast to the data quality score where invalid and missing data are treated the same, in this tier system, we separate cases where we have missing data from invalid cases and treat this as insufficient. \n",
    "\n",
    "## Method\n",
    "\n",
    "The method of scoring the data fields and their validity is either a binary 1 and 0 in cases where we are not required to deal with missing values, as in the case of valid names, and None, 0, 1 for missing, invalid, and valid data fields. "
   ]
  },
  {
   "cell_type": "code",
   "execution_count": 21,
   "id": "b8faf6d6-e375-4c15-92fc-f25761de2e92",
   "metadata": {
    "editable": true,
    "slideshow": {
     "slide_type": ""
    },
    "tags": [
     "remove_cell"
    ]
   },
   "outputs": [],
   "source": [
    "import pandas as pd\n",
    "import numpy as np\n",
    "import os\n",
    "from tabulate import tabulate\n",
    "%run queries.py\n",
    "pd.set_option('display.max_rows', None)\n",
    "pd.set_option('display.max_columns', None)"
   ]
  },
  {
   "cell_type": "code",
   "execution_count": 22,
   "id": "e3aea5c2-29b1-427a-9736-1afff2641b17",
   "metadata": {
    "editable": true,
    "slideshow": {
     "slide_type": ""
    },
    "tags": [
     "remove_cell"
    ]
   },
   "outputs": [],
   "source": [
    "# Load Data\n",
    "input_directory = '../src/parquet/'\n",
    "input_files = [f for f in os.listdir(input_directory) if f.endswith('.parquet')]\n",
    "list_df = []\n",
    "for input_file in input_files:\n",
    "    input_file_path = os.path.join(input_directory, input_file)\n",
    "    data = pd.read_parquet(input_file_path)\n",
    "    list_df.append(data)\n",
    "\n",
    "data = pd.concat(list_df).reset_index(drop=True)\n",
    "data = data.where(pd.notnull(data), None)"
   ]
  },
  {
   "cell_type": "code",
   "execution_count": 23,
   "id": "e986d575-9184-489d-b0e1-8d5c4f03d187",
   "metadata": {
    "editable": true,
    "slideshow": {
     "slide_type": ""
    },
    "tags": [
     "remove_cell"
    ]
   },
   "outputs": [],
   "source": [
    "#Prepare data\n",
    "data['_source.sources.source_ids'] = data['_source.sources.source_ids'].apply(lambda x: ', '.join(map(str, x)))\n",
    "data['completeness'] = data['completeness'].replace(0, 'incomplete')\n",
    "\n",
    "# Select Sources\n",
    "LIST_SOURCE_SOURCE_IDS = ['S:FBFYW0 [DBPedia]','S:4CU7GM [PEP Everypolitician]', 'S:8L276A [Manual PEPs]', 'S:1GYJGG [The Official Board]', 'S:MFCNUA [PEP US Diplomat list 2]']\n",
    "data = data[data['_source.sources.source_ids'].isin(LIST_SOURCE_SOURCE_IDS)]\n",
    "\n",
    "#Remove RCAs\n",
    "RCA_DBPEDIA = data[(data['_source.sources.source_ids'] == 'S:FBFYW0 [DBPedia]') & (data['PEP_id'] == False)]\n",
    "data.drop(RCA_DBPEDIA.index, inplace=True)"
   ]
  },
  {
   "cell_type": "markdown",
   "id": "5e58c711-aca3-4e0e-aaa4-b8964019b0d6",
   "metadata": {
    "editable": true,
    "slideshow": {
     "slide_type": ""
    },
    "tags": []
   },
   "source": [
    "## Processing Fields"
   ]
  },
  {
   "cell_type": "markdown",
   "id": "5a299512-5d21-432a-a73c-49ec5a98495a",
   "metadata": {
    "editable": true,
    "slideshow": {
     "slide_type": ""
    },
    "tags": []
   },
   "source": [
    "### Name check\n",
    "\n",
    "Names are non-negotiable. Either a PEP has a valid name or they do not. We therefore score invalid names 0 and valid names 1. "
   ]
  },
  {
   "cell_type": "code",
   "execution_count": 24,
   "id": "c6c9ea46-caeb-4a75-b666-8de154eac15a",
   "metadata": {
    "editable": true,
    "slideshow": {
     "slide_type": ""
    },
    "tags": []
   },
   "outputs": [],
   "source": [
    "#Check if name is valid by looking at TOTAL FLAGS > 0. Zero for invalid names and 1 for valid. There are no Null values here\n",
    "name_check = data['TOTAL_FLAGS'].apply(lambda x: 0 if x > 0 else 1)"
   ]
  },
  {
   "cell_type": "markdown",
   "id": "b5b75587-b404-428d-896c-36d0bd823b8a",
   "metadata": {
    "editable": true,
    "slideshow": {
     "slide_type": ""
    },
    "tags": []
   },
   "source": [
    "### Date of birth\n",
    "\n",
    "For date of births, we return None for missing values, 0 for invaldi ages that are <18 or >200 and 1 for valid ages"
   ]
  },
  {
   "cell_type": "code",
   "execution_count": 25,
   "id": "5a1c05ee-41ed-43d6-b084-91bd81cad478",
   "metadata": {
    "editable": true,
    "slideshow": {
     "slide_type": ""
    },
    "tags": []
   },
   "outputs": [],
   "source": [
    "#Birth date (Good enough = valid, t1 - t3 must have the field). Zero if empty or >200 otherwise 1\n",
    "date_of_birth = data['_source.data.births.age'].apply(lambda x: None if pd.isna(x) else (0 if x <18 or x >= 200 else 1))"
   ]
  },
  {
   "cell_type": "markdown",
   "id": "f0f7e757-a0bb-4cb5-8483-bc60085c0855",
   "metadata": {
    "editable": true,
    "slideshow": {
     "slide_type": ""
    },
    "tags": []
   },
   "source": [
    "### Date of death\n",
    "\n",
    "For date of death, we return None for missing values, 0 if the person died more than 100 years ago, and 1 if the date of death is valid and less than 100. "
   ]
  },
  {
   "cell_type": "code",
   "execution_count": 26,
   "id": "b9ca144c-2d82-4b33-b8e2-0bdf71016eeb",
   "metadata": {
    "editable": true,
    "slideshow": {
     "slide_type": ""
    },
    "tags": []
   },
   "outputs": [],
   "source": [
    "date_of_death = data['_source.data.deaths.years_since_death'].apply(lambda x: None if pd.isna(x) else (1 if x <=100 else 0))"
   ]
  },
  {
   "cell_type": "markdown",
   "id": "cf3cf1ab-3ff8-4228-98fe-676a29cf6a62",
   "metadata": {
    "editable": true,
    "slideshow": {
     "slide_type": ""
    },
    "tags": []
   },
   "source": [
    "### Occupation\n",
    "\n",
    "We return None when there is no value is either display or occupation fields, 0 if there is but has_occupation is false, and 1 if the occupation is present and a valid PEP occupation."
   ]
  },
  {
   "cell_type": "code",
   "execution_count": 27,
   "id": "97c59a12-a17b-42a4-9714-4f6f80ab855a",
   "metadata": {
    "editable": true,
    "slideshow": {
     "slide_type": ""
    },
    "tags": []
   },
   "outputs": [],
   "source": [
    "#Display fields and occupation are None! So to detect insufficient we take None if there's  no data to evaluate in occupations and dispaly. If one has a value we'd check that and incorrect occupation is value does not work. \n",
    "occupation = data.apply(lambda row: None if row['has_occupation'] is False and row['_source.data.display_fields.value'] is None and row['_source.data.occupations.occupation'] is None else (0 if row['has_occupation'] == False else 1), axis=1)"
   ]
  },
  {
   "cell_type": "markdown",
   "id": "28cdf319-4002-4047-bb78-df200e591397",
   "metadata": {
    "editable": true,
    "slideshow": {
     "slide_type": ""
    },
    "tags": []
   },
   "source": [
    "### Location\n",
    "\n",
    "PEPs can be missing a location. In these cases, we return None. When a PEP has a \"continent\" as it's location, we return 0. There can be more than one value in the location list. As such, we do not invalidate a PEP with a continent and a country as its location. Only PEPs with a continent as the sole value are invalid. 1 is returned for valid location."
   ]
  },
  {
   "cell_type": "code",
   "execution_count": 28,
   "id": "76a36749-928e-48e3-b847-13a3766074b0",
   "metadata": {
    "editable": true,
    "slideshow": {
     "slide_type": ""
    },
    "tags": []
   },
   "outputs": [],
   "source": [
    "#Location check. If None return none. If all values a continent then return 0, else 1. This value is a list of places [] so iterate through each list for each row. \n",
    "# Actually we need a Present here. Values: None: None, Present but wrong: 0, Present and not continent: 1\n",
    "data['source.data.locations.name'] = data['_source.data.locations.name'].apply(lambda x: x.tolist() if x is not None else None) #Convert np.array to list for each row in pd.Series\n",
    "continents = ['North America', 'South America', 'Europe', 'Asia', 'Africa', 'Oceania', 'Middle East']\n",
    "location = data['source.data.locations.name'].apply(lambda x: None if x is None else (0 if all(value in continents for value in x) else 1))"
   ]
  },
  {
   "cell_type": "markdown",
   "id": "71a59ead-2ae8-4a56-a724-3ccac50a32eb",
   "metadata": {
    "editable": true,
    "slideshow": {
     "slide_type": ""
    },
    "tags": []
   },
   "source": [
    "### Source URL\n",
    "\n",
    "None values are returned as None, 0 is for invalid url, and 1 if valid url."
   ]
  },
  {
   "cell_type": "code",
   "execution_count": 29,
   "id": "67c0fc4d-b34a-4806-9b1c-8cb7cf008b56",
   "metadata": {
    "editable": true,
    "slideshow": {
     "slide_type": ""
    },
    "tags": []
   },
   "outputs": [],
   "source": [
    "# Source url. None for None values, 0 if all in list invalid url and 1 if valid url \n",
    "data['_source.assets.external_urls'] = data['_source.assets.external_urls'].apply(lambda x: x.tolist() if x is not None else None)\n",
    "reject_urls = ['http://complyadvantage.com','https://complyadvantage.com']\n",
    "source_url = data['_source.assets.external_urls'].apply(lambda x: None if x is None else (0 if all(url in reject_urls for url in x) else 1))"
   ]
  },
  {
   "cell_type": "markdown",
   "id": "f0e846d5-896c-41cd-bb95-08be1e1bad37",
   "metadata": {
    "editable": true,
    "slideshow": {
     "slide_type": ""
    },
    "tags": []
   },
   "source": [
    "### PEP Position date\n",
    "\n",
    "We cannot validate PEP start dates and end dates nor can we reject PEPs solely if one is missing since 90% of PEPs have a missing start or end value. If both are missing we'll return None, if one is missing we'll return 0 and if both are present we return 1"
   ]
  },
  {
   "cell_type": "code",
   "execution_count": 30,
   "id": "aa726328-03e3-4c3a-808b-6c516f27c5e9",
   "metadata": {
    "editable": true,
    "slideshow": {
     "slide_type": ""
    },
    "tags": []
   },
   "outputs": [],
   "source": [
    "#PEP start date\n",
    "start_date = data['_source.data.aml_types.start_date'].apply(lambda x: None if all(date is None for date in x) else 1)"
   ]
  },
  {
   "cell_type": "code",
   "execution_count": 31,
   "id": "a5001a9a-a8f9-4ac4-b7a0-0100544f538d",
   "metadata": {},
   "outputs": [],
   "source": [
    "#PEP end date\n",
    "end_date = data['_source.data.aml_types.end_date'].apply(lambda x: None if all(date is None for date in x) else 1)"
   ]
  },
  {
   "cell_type": "code",
   "execution_count": 32,
   "id": "7aeeb176-0259-4e58-adec-d74b8477285e",
   "metadata": {},
   "outputs": [],
   "source": [
    "#None if both missing, 0 ie invalid if one none, 1 if both present\n",
    "date_checker = lambda start_date, end_date: \\\n",
    "    None if pd.isna(start_date) and pd.isna(end_date) \\\n",
    "    else (0 if not (pd.isna(start_date) or pd.isna(end_date)) \\\n",
    "    else (1 if not (pd.isna(start_date) and pd.isna(end_date)) else None))\n",
    "position_date = [date_checker(start, end) for start, end in zip(start_date, end_date)]"
   ]
  },
  {
   "cell_type": "markdown",
   "id": "3ef6403c-180b-4c32-9d49-f88f0994fcd9",
   "metadata": {
    "editable": true,
    "slideshow": {
     "slide_type": ""
    },
    "tags": []
   },
   "source": [
    "### Sorting PEPs into tiers\n",
    "\n",
    "We sort PEPs into our tiers based on whether they meet our conditions. \n"
   ]
  },
  {
   "cell_type": "code",
   "execution_count": 33,
   "id": "a3cae7f9-751e-4db1-8410-c27b16223d6d",
   "metadata": {
    "editable": true,
    "slideshow": {
     "slide_type": ""
    },
    "tags": [
     "remove_cell"
    ]
   },
   "outputs": [],
   "source": [
    "result = pd.DataFrame({\n",
    "    \"valid_name\": name_check,\n",
    "    \"dob\": date_of_birth,\n",
    "    \"dod\": date_of_death,\n",
    "    \"occupation\": occupation,\n",
    "    \"location\": location,\n",
    "    \"source_url\": source_url, \n",
    "    \"position_date\": position_date,\n",
    "    })"
   ]
  },
  {
   "cell_type": "code",
   "execution_count": 34,
   "id": "a32a74b7",
   "metadata": {},
   "outputs": [],
   "source": [
    "result['tier'] = None\n",
    "\n",
    "#Tier 1 has a valid name, a valid dob, date of birth is not invalid but can be null, valid occupation, valid location, valid url, valid start_date\n",
    "result.loc[(result['valid_name'] == 1) & (result['dob'] == 1) & ~(result['dod'] == 0) & (result['occupation'] == 1) & (result['location'] == 1) & (result['source_url'] == 1) & (result['position_date'] == 1), 'tier'] = 'T1'\n",
    "#Tier 2 has a valid name, valid date of birth, valid occupation, valid location, valid url, and start_date is not present (ie None)\n",
    "result.loc[(result['valid_name'] == 1) & (result['dob'] == 1) & ~(result['dod'] == 0) &  (result['occupation'] == 1) & (result['location'] == 1) & (result['source_url'] == 1)  & ~(result['position_date'] == 1 ), 'tier'] = 'T2'\n",
    "#Tier 3 has a valid name, valid dob, valid occupation, valid location, no location, no start_date\n",
    "result.loc[(result['valid_name'] == 1) & (result['dob'] == 1) & ~(result['dod'] == 0) & (result['occupation'] == 1) & (result['location'] == 1) & ~(result['source_url'] == 1)  & ~(result['position_date'] == 1), 'tier'] = 'T3'\n",
    "\n",
    "#Good enough has a valid name, valid date of birth, valid occupation, date of birth is present not validated, location is present not validated, start_date is present not validated \n",
    "result.loc[(result['valid_name'] == 1) & (result['dob'] == 1) & ~(pd.isna(result['dod'])) & (result['occupation'] == 1) & ~(pd.isna(result['location'])) & ~(pd.isna(result['source_url'])) & ~(pd.isna(result['position_date'])), 'tier'] = 'Good enough'\n",
    "\n",
    "#Rejected has either: invalid name, invalid dob, invalid dod, invalid occupation, invdalid location, invalid source_url, invalid start_date\n",
    "result.loc[(result['valid_name'] == 0) | (result['dob'] == 0) | (result['dod'] == 0) | (result['occupation'] == 0) |  (result['location'] == 0) | (result['source_url'] == 0) | (result['position_date'] == 0), 'tier']  = 'Reject'\n",
    "\n",
    "#Insufficient\n",
    "#There are None values in occupation. \n",
    "#result.loc[(pd.isna(date_of_birth)) & (pd.isna(date_of_death)) & (pd.isna(location)) & (pd.isna(source_url)) & (pd.isna(position_date)),  'tier']  = 'Insufficient'\n",
    "#result.loc[(pd.isna(result['dob'])) & (pd.isna(result['occupation'])) & (pd.isna(result['location'])) & (pd.isna(result['source_url'])) & (pd.isna(result['position_date'])),  'tier']  = 'Insufficient'\n",
    "\n",
    "result['tier'] = result['tier'].fillna('Insufficient')"
   ]
  },
  {
   "cell_type": "markdown",
   "id": "1718c761-7502-41f2-99ce-a35db55dd76d",
   "metadata": {
    "editable": true,
    "slideshow": {
     "slide_type": ""
    },
    "tags": []
   },
   "source": [
    "## Results\n",
    "\n",
    "~70% of PEP profiles are either insufficient or rejected. These are PEP profiles that would be too difficult to enrich and our recommendation is to delete them. "
   ]
  },
  {
   "cell_type": "code",
   "execution_count": 35,
   "id": "9cec2ad2-31fa-4fd4-ad03-9292c8ba68a4",
   "metadata": {
    "editable": true,
    "slideshow": {
     "slide_type": ""
    },
    "tags": []
   },
   "outputs": [],
   "source": [
    "t = pd.merge(data, result, left_index=True, right_index=True) "
   ]
  },
  {
   "cell_type": "code",
   "execution_count": 36,
   "id": "5034e793-bede-4ec3-9c77-45700de336f7",
   "metadata": {
    "editable": true,
    "slideshow": {
     "slide_type": ""
    },
    "tags": [
     "remove_input"
    ]
   },
   "outputs": [
    {
     "data": {
      "text/html": [
       "<div>\n",
       "<style scoped>\n",
       "    .dataframe tbody tr th:only-of-type {\n",
       "        vertical-align: middle;\n",
       "    }\n",
       "\n",
       "    .dataframe tbody tr th {\n",
       "        vertical-align: top;\n",
       "    }\n",
       "\n",
       "    .dataframe thead th {\n",
       "        text-align: right;\n",
       "    }\n",
       "</style>\n",
       "<table border=\"1\" class=\"dataframe\">\n",
       "  <thead>\n",
       "    <tr style=\"text-align: right;\">\n",
       "      <th></th>\n",
       "      <th>tier</th>\n",
       "      <th>count</th>\n",
       "      <th>share</th>\n",
       "    </tr>\n",
       "  </thead>\n",
       "  <tbody>\n",
       "    <tr>\n",
       "      <th>3</th>\n",
       "      <td>T1</td>\n",
       "      <td>14366</td>\n",
       "      <td>2.8</td>\n",
       "    </tr>\n",
       "    <tr>\n",
       "      <th>4</th>\n",
       "      <td>T2</td>\n",
       "      <td>9623</td>\n",
       "      <td>1.9</td>\n",
       "    </tr>\n",
       "    <tr>\n",
       "      <th>2</th>\n",
       "      <td>T3</td>\n",
       "      <td>121849</td>\n",
       "      <td>23.4</td>\n",
       "    </tr>\n",
       "    <tr>\n",
       "      <th>5</th>\n",
       "      <td>Good enough</td>\n",
       "      <td>229</td>\n",
       "      <td>0.0</td>\n",
       "    </tr>\n",
       "    <tr>\n",
       "      <th>1</th>\n",
       "      <td>Reject</td>\n",
       "      <td>132789</td>\n",
       "      <td>25.5</td>\n",
       "    </tr>\n",
       "    <tr>\n",
       "      <th>0</th>\n",
       "      <td>Insufficient</td>\n",
       "      <td>241018</td>\n",
       "      <td>46.4</td>\n",
       "    </tr>\n",
       "  </tbody>\n",
       "</table>\n",
       "</div>"
      ],
      "text/plain": [
       "           tier   count  share\n",
       "3            T1   14366    2.8\n",
       "4            T2    9623    1.9\n",
       "2            T3  121849   23.4\n",
       "5   Good enough     229    0.0\n",
       "1        Reject  132789   25.5\n",
       "0  Insufficient  241018   46.4"
      ]
     },
     "execution_count": 36,
     "metadata": {},
     "output_type": "execute_result"
    }
   ],
   "source": [
    "custom_order = ['T1', 'T2', 'T3', 'Good enough', 'Reject', 'Insufficient']\n",
    "count_tier = t.tier.value_counts(dropna=False).reset_index()\n",
    "count_tier['tier'] = pd.Categorical(count_tier['tier'], categories=custom_order, ordered=True)\n",
    "count_tier['share'] = count_tier['count'].div(count_tier['count'].sum()).round(3) * 100\n",
    "count_tier.sort_values(by='tier')"
   ]
  },
  {
   "cell_type": "markdown",
   "id": "041d50e3-ad93-4518-999b-928239aefaed",
   "metadata": {
    "editable": true,
    "slideshow": {
     "slide_type": ""
    },
    "tags": []
   },
   "source": [
    "### Tiers by data quality score\n",
    "\n",
    "On inspections, PEPs in one of the tiers have a data quality > 0.5. "
   ]
  },
  {
   "cell_type": "code",
   "execution_count": 37,
   "id": "13fbadca-2f66-460f-9b4e-09353f8a42cd",
   "metadata": {
    "editable": true,
    "slideshow": {
     "slide_type": ""
    },
    "tags": [
     "remove_input"
    ]
   },
   "outputs": [
    {
     "name": "stderr",
     "output_type": "stream",
     "text": [
      "/tmp/ipykernel_102912/610060206.py:8: FutureWarning: The default value of observed=False is deprecated and will change to observed=True in a future version of pandas. Specify observed=False to silence this warning and retain the current behavior\n",
      "  pd.pivot_table(by_dqs, index='tier', columns='score', values='count').round(0).fillna(0)\n"
     ]
    },
    {
     "data": {
      "text/html": [
       "<div>\n",
       "<style scoped>\n",
       "    .dataframe tbody tr th:only-of-type {\n",
       "        vertical-align: middle;\n",
       "    }\n",
       "\n",
       "    .dataframe tbody tr th {\n",
       "        vertical-align: top;\n",
       "    }\n",
       "\n",
       "    .dataframe thead th {\n",
       "        text-align: right;\n",
       "    }\n",
       "</style>\n",
       "<table border=\"1\" class=\"dataframe\">\n",
       "  <thead>\n",
       "    <tr style=\"text-align: right;\">\n",
       "      <th>score</th>\n",
       "      <th>&lt;0.5</th>\n",
       "      <th>0.5</th>\n",
       "      <th>&gt;=0.5</th>\n",
       "    </tr>\n",
       "    <tr>\n",
       "      <th>tier</th>\n",
       "      <th></th>\n",
       "      <th></th>\n",
       "      <th></th>\n",
       "    </tr>\n",
       "  </thead>\n",
       "  <tbody>\n",
       "    <tr>\n",
       "      <th>T1</th>\n",
       "      <td>0.0</td>\n",
       "      <td>0.0</td>\n",
       "      <td>4789.0</td>\n",
       "    </tr>\n",
       "    <tr>\n",
       "      <th>T2</th>\n",
       "      <td>0.0</td>\n",
       "      <td>0.0</td>\n",
       "      <td>4812.0</td>\n",
       "    </tr>\n",
       "    <tr>\n",
       "      <th>T3</th>\n",
       "      <td>524.0</td>\n",
       "      <td>0.0</td>\n",
       "      <td>10982.0</td>\n",
       "    </tr>\n",
       "    <tr>\n",
       "      <th>Good enough</th>\n",
       "      <td>0.0</td>\n",
       "      <td>0.0</td>\n",
       "      <td>229.0</td>\n",
       "    </tr>\n",
       "    <tr>\n",
       "      <th>Reject</th>\n",
       "      <td>4533.0</td>\n",
       "      <td>719.0</td>\n",
       "      <td>2872.0</td>\n",
       "    </tr>\n",
       "    <tr>\n",
       "      <th>Insufficient</th>\n",
       "      <td>15490.0</td>\n",
       "      <td>7.0</td>\n",
       "      <td>6606.0</td>\n",
       "    </tr>\n",
       "  </tbody>\n",
       "</table>\n",
       "</div>"
      ],
      "text/plain": [
       "score            <0.5    0.5    >=0.5\n",
       "tier                                 \n",
       "T1                0.0    0.0   4789.0\n",
       "T2                0.0    0.0   4812.0\n",
       "T3              524.0    0.0  10982.0\n",
       "Good enough       0.0    0.0    229.0\n",
       "Reject         4533.0  719.0   2872.0\n",
       "Insufficient  15490.0    7.0   6606.0"
      ]
     },
     "execution_count": 37,
     "metadata": {},
     "output_type": "execute_result"
    }
   ],
   "source": [
    "by_dqs = t.groupby('tier')['score.data_quality'].value_counts().reset_index()\n",
    "by_dqs['tier'] = pd.Categorical(by_dqs['tier'], categories=custom_order, ordered=True)\n",
    "by_dqs.sort_values(by='tier')\n",
    "bins = [0, 0.49, 0.5, float('inf')]\n",
    "labels = ['<0.5', '0.5', '>=0.5']\n",
    "by_dqs['score'] = pd.cut(by_dqs['score.data_quality'], bins=bins, labels=labels, right=False)\n",
    "#by_dqs[(by_dqs['tier'] == 'Insufficient') & (by_dqs['score'] == '>0.5')]\n",
    "pd.pivot_table(by_dqs, index='tier', columns='score', values='count').round(0).fillna(0)"
   ]
  },
  {
   "cell_type": "code",
   "execution_count": 59,
   "id": "7eba2fc9",
   "metadata": {},
   "outputs": [],
   "source": [
    "t1 = create_queries(t[t['tier'] == 'T1'])\n",
    "t2 = create_queries(t[t['tier'] == 'T2'])\n",
    "t3 = create_queries(t[t['tier'] == 'T3'])\n",
    "good_enough = create_queries(t[t['tier'] == 'Good enough'])\n",
    "rejected = create_queries(t[t['tier'] == 'Reject'])\n",
    "insufficient = create_queries(t[t['tier'] == 'Insufficient'])"
   ]
  },
  {
   "cell_type": "markdown",
   "id": "6f5214f3-c0b0-4e20-a560-12e064c73b12",
   "metadata": {
    "editable": true,
    "slideshow": {
     "slide_type": ""
    },
    "tags": []
   },
   "source": [
    "### Trenche breakdown\n",
    "\n",
    "Based on the table below, we find that age and data quality is a problem in T1, T2. Age is explained by the fact that data quality score considers <18 and >200 invalid ages.  "
   ]
  },
  {
   "cell_type": "code",
   "execution_count": 60,
   "id": "6aa834a2-81af-48b2-87cb-bf152646d559",
   "metadata": {
    "editable": true,
    "slideshow": {
     "slide_type": ""
    },
    "tags": [
     "remove_input"
    ]
   },
   "outputs": [
    {
     "data": {
      "text/html": [
       "<div>\n",
       "<style scoped>\n",
       "    .dataframe tbody tr th:only-of-type {\n",
       "        vertical-align: middle;\n",
       "    }\n",
       "\n",
       "    .dataframe tbody tr th {\n",
       "        vertical-align: top;\n",
       "    }\n",
       "\n",
       "    .dataframe thead th {\n",
       "        text-align: right;\n",
       "    }\n",
       "</style>\n",
       "<table border=\"1\" class=\"dataframe\">\n",
       "  <thead>\n",
       "    <tr style=\"text-align: right;\">\n",
       "      <th></th>\n",
       "      <th>invalid</th>\n",
       "      <th>t1</th>\n",
       "      <th>t2</th>\n",
       "      <th>t3</th>\n",
       "      <th>good enough</th>\n",
       "      <th>insufficient</th>\n",
       "      <th>rejected</th>\n",
       "    </tr>\n",
       "    <tr>\n",
       "      <th>Tranche</th>\n",
       "      <th></th>\n",
       "      <th></th>\n",
       "      <th></th>\n",
       "      <th></th>\n",
       "      <th></th>\n",
       "      <th></th>\n",
       "      <th></th>\n",
       "    </tr>\n",
       "  </thead>\n",
       "  <tbody>\n",
       "    <tr>\n",
       "      <th>4.0</th>\n",
       "      <td>quality, age, name, occupation</td>\n",
       "      <td>0</td>\n",
       "      <td>0</td>\n",
       "      <td>0</td>\n",
       "      <td>0</td>\n",
       "      <td>0</td>\n",
       "      <td>994</td>\n",
       "    </tr>\n",
       "    <tr>\n",
       "      <th>3.0</th>\n",
       "      <td>quality,age, occupation</td>\n",
       "      <td>0</td>\n",
       "      <td>0</td>\n",
       "      <td>0</td>\n",
       "      <td>0</td>\n",
       "      <td>3</td>\n",
       "      <td>67465</td>\n",
       "    </tr>\n",
       "    <tr>\n",
       "      <th></th>\n",
       "      <td>quality,age, name</td>\n",
       "      <td>0</td>\n",
       "      <td>0</td>\n",
       "      <td>0</td>\n",
       "      <td>0</td>\n",
       "      <td>0</td>\n",
       "      <td>1334</td>\n",
       "    </tr>\n",
       "    <tr>\n",
       "      <th></th>\n",
       "      <td>quality, name, occupation</td>\n",
       "      <td>0</td>\n",
       "      <td>0</td>\n",
       "      <td>0</td>\n",
       "      <td>0</td>\n",
       "      <td>0</td>\n",
       "      <td>97</td>\n",
       "    </tr>\n",
       "    <tr>\n",
       "      <th></th>\n",
       "      <td>age, name, occupation</td>\n",
       "      <td>0</td>\n",
       "      <td>0</td>\n",
       "      <td>0</td>\n",
       "      <td>0</td>\n",
       "      <td>0</td>\n",
       "      <td>0</td>\n",
       "    </tr>\n",
       "    <tr>\n",
       "      <th>2.0</th>\n",
       "      <td>quality, age</td>\n",
       "      <td>0</td>\n",
       "      <td>0</td>\n",
       "      <td>0</td>\n",
       "      <td>0</td>\n",
       "      <td>197043</td>\n",
       "      <td>13584</td>\n",
       "    </tr>\n",
       "    <tr>\n",
       "      <th></th>\n",
       "      <td>quality, occupation</td>\n",
       "      <td>0</td>\n",
       "      <td>0</td>\n",
       "      <td>0</td>\n",
       "      <td>0</td>\n",
       "      <td>21</td>\n",
       "      <td>3283</td>\n",
       "    </tr>\n",
       "    <tr>\n",
       "      <th></th>\n",
       "      <td>age, name</td>\n",
       "      <td>0</td>\n",
       "      <td>0</td>\n",
       "      <td>0</td>\n",
       "      <td>0</td>\n",
       "      <td>0</td>\n",
       "      <td>179</td>\n",
       "    </tr>\n",
       "    <tr>\n",
       "      <th></th>\n",
       "      <td>quality, name</td>\n",
       "      <td>0</td>\n",
       "      <td>0</td>\n",
       "      <td>0</td>\n",
       "      <td>0</td>\n",
       "      <td>0</td>\n",
       "      <td>88</td>\n",
       "    </tr>\n",
       "    <tr>\n",
       "      <th></th>\n",
       "      <td>name, occupation</td>\n",
       "      <td>0</td>\n",
       "      <td>0</td>\n",
       "      <td>0</td>\n",
       "      <td>0</td>\n",
       "      <td>0</td>\n",
       "      <td>21</td>\n",
       "    </tr>\n",
       "    <tr>\n",
       "      <th></th>\n",
       "      <td>age, occupation</td>\n",
       "      <td>0</td>\n",
       "      <td>0</td>\n",
       "      <td>0</td>\n",
       "      <td>0</td>\n",
       "      <td>0</td>\n",
       "      <td>0</td>\n",
       "    </tr>\n",
       "    <tr>\n",
       "      <th>1.0</th>\n",
       "      <td>age</td>\n",
       "      <td>0</td>\n",
       "      <td>0</td>\n",
       "      <td>0</td>\n",
       "      <td>0</td>\n",
       "      <td>28980</td>\n",
       "      <td>2767</td>\n",
       "    </tr>\n",
       "    <tr>\n",
       "      <th></th>\n",
       "      <td>occupation</td>\n",
       "      <td>0</td>\n",
       "      <td>0</td>\n",
       "      <td>0</td>\n",
       "      <td>0</td>\n",
       "      <td>0</td>\n",
       "      <td>13189</td>\n",
       "    </tr>\n",
       "    <tr>\n",
       "      <th></th>\n",
       "      <td>quality</td>\n",
       "      <td>0</td>\n",
       "      <td>0</td>\n",
       "      <td>1049</td>\n",
       "      <td>0</td>\n",
       "      <td>4312</td>\n",
       "      <td>0</td>\n",
       "    </tr>\n",
       "    <tr>\n",
       "      <th></th>\n",
       "      <td>name</td>\n",
       "      <td>0</td>\n",
       "      <td>0</td>\n",
       "      <td>0</td>\n",
       "      <td>0</td>\n",
       "      <td>0</td>\n",
       "      <td>1344</td>\n",
       "    </tr>\n",
       "  </tbody>\n",
       "</table>\n",
       "</div>"
      ],
      "text/plain": [
       "                                invalid  t1  t2    t3  good enough  \\\n",
       "Tranche                                                              \n",
       "4.0      quality, age, name, occupation   0   0     0            0   \n",
       "3.0             quality,age, occupation   0   0     0            0   \n",
       "                      quality,age, name   0   0     0            0   \n",
       "              quality, name, occupation   0   0     0            0   \n",
       "                  age, name, occupation   0   0     0            0   \n",
       "2.0                        quality, age   0   0     0            0   \n",
       "                    quality, occupation   0   0     0            0   \n",
       "                              age, name   0   0     0            0   \n",
       "                          quality, name   0   0     0            0   \n",
       "                       name, occupation   0   0     0            0   \n",
       "                        age, occupation   0   0     0            0   \n",
       "1.0                                 age   0   0     0            0   \n",
       "                             occupation   0   0     0            0   \n",
       "                                quality   0   0  1049            0   \n",
       "                                   name   0   0     0            0   \n",
       "\n",
       "         insufficient  rejected  \n",
       "Tranche                          \n",
       "4.0                 0       994  \n",
       "3.0                 3     67465  \n",
       "                    0      1334  \n",
       "                    0        97  \n",
       "                    0         0  \n",
       "2.0            197043     13584  \n",
       "                   21      3283  \n",
       "                    0       179  \n",
       "                    0        88  \n",
       "                    0        21  \n",
       "                    0         0  \n",
       "1.0             28980      2767  \n",
       "                    0     13189  \n",
       "                 4312         0  \n",
       "                    0      1344  "
      ]
     },
     "execution_count": 60,
     "metadata": {},
     "output_type": "execute_result"
    }
   ],
   "source": [
    "#pd.merge(t1, t2, on='count', how='inner')\n",
    "t1['t2'] = t2['count']\n",
    "t1['t3'] = t3['count']\n",
    "t1['good enough'] = good_enough['count']\n",
    "t1['rejected'] = rejected['count']\n",
    "t1['insufficient'] = insufficient['count']\n",
    "t1 = t1[['index', 'count', 't2', 't3', 'good enough', 'insufficient', 'rejected']].rename(columns={'index': 'invalid', 'count': 't1'})\n",
    "t1"
   ]
  },
  {
   "cell_type": "markdown",
   "id": "0fffc893",
   "metadata": {},
   "source": [
    "### Insufficient PEPs"
   ]
  },
  {
   "cell_type": "markdown",
   "id": "78a5505f-0aac-4956-b136-a8d71ae31f5e",
   "metadata": {},
   "source": [
    "PEPs with missing data do not fall into one of the tiers, but since their data is not invalid we label them as insufficient. Below is a table illustrating the missing values that render PEPs insufficient. \n",
    "Note, tiers can have also have empty values. PEPs are not required to have dod and are placed in a tier if dod isn't >100 and the PEP meets conditions for one of the tiers. \n"
   ]
  },
  {
   "cell_type": "code",
   "execution_count": 41,
   "id": "ff03fe86",
   "metadata": {},
   "outputs": [
    {
     "data": {
      "text/html": [
       "<div>\n",
       "<style scoped>\n",
       "    .dataframe tbody tr th:only-of-type {\n",
       "        vertical-align: middle;\n",
       "    }\n",
       "\n",
       "    .dataframe tbody tr th {\n",
       "        vertical-align: top;\n",
       "    }\n",
       "\n",
       "    .dataframe thead th {\n",
       "        text-align: right;\n",
       "    }\n",
       "</style>\n",
       "<table border=\"1\" class=\"dataframe\">\n",
       "  <thead>\n",
       "    <tr style=\"text-align: right;\">\n",
       "      <th></th>\n",
       "      <th>valid_name</th>\n",
       "      <th>dob</th>\n",
       "      <th>dod</th>\n",
       "      <th>occupation</th>\n",
       "      <th>location</th>\n",
       "      <th>source_url</th>\n",
       "      <th>position_date</th>\n",
       "    </tr>\n",
       "    <tr>\n",
       "      <th>tier</th>\n",
       "      <th></th>\n",
       "      <th></th>\n",
       "      <th></th>\n",
       "      <th></th>\n",
       "      <th></th>\n",
       "      <th></th>\n",
       "      <th></th>\n",
       "    </tr>\n",
       "  </thead>\n",
       "  <tbody>\n",
       "    <tr>\n",
       "      <th>Good enough</th>\n",
       "      <td>0</td>\n",
       "      <td>0</td>\n",
       "      <td>0</td>\n",
       "      <td>0</td>\n",
       "      <td>0</td>\n",
       "      <td>0</td>\n",
       "      <td>0</td>\n",
       "    </tr>\n",
       "    <tr>\n",
       "      <th>Insufficient</th>\n",
       "      <td>0</td>\n",
       "      <td>226026</td>\n",
       "      <td>239627</td>\n",
       "      <td>24</td>\n",
       "      <td>9550</td>\n",
       "      <td>52196</td>\n",
       "      <td>206828</td>\n",
       "    </tr>\n",
       "    <tr>\n",
       "      <th>Reject</th>\n",
       "      <td>0</td>\n",
       "      <td>86146</td>\n",
       "      <td>124710</td>\n",
       "      <td>0</td>\n",
       "      <td>1880</td>\n",
       "      <td>30126</td>\n",
       "      <td>67909</td>\n",
       "    </tr>\n",
       "    <tr>\n",
       "      <th>T1</th>\n",
       "      <td>0</td>\n",
       "      <td>0</td>\n",
       "      <td>14366</td>\n",
       "      <td>0</td>\n",
       "      <td>0</td>\n",
       "      <td>0</td>\n",
       "      <td>0</td>\n",
       "    </tr>\n",
       "    <tr>\n",
       "      <th>T2</th>\n",
       "      <td>0</td>\n",
       "      <td>0</td>\n",
       "      <td>9623</td>\n",
       "      <td>0</td>\n",
       "      <td>0</td>\n",
       "      <td>0</td>\n",
       "      <td>9623</td>\n",
       "    </tr>\n",
       "    <tr>\n",
       "      <th>T3</th>\n",
       "      <td>0</td>\n",
       "      <td>0</td>\n",
       "      <td>110591</td>\n",
       "      <td>0</td>\n",
       "      <td>0</td>\n",
       "      <td>121849</td>\n",
       "      <td>121849</td>\n",
       "    </tr>\n",
       "  </tbody>\n",
       "</table>\n",
       "</div>"
      ],
      "text/plain": [
       "              valid_name     dob     dod  occupation  location  source_url  \\\n",
       "tier                                                                         \n",
       "Good enough            0       0       0           0         0           0   \n",
       "Insufficient           0  226026  239627          24      9550       52196   \n",
       "Reject                 0   86146  124710           0      1880       30126   \n",
       "T1                     0       0   14366           0         0           0   \n",
       "T2                     0       0    9623           0         0           0   \n",
       "T3                     0       0  110591           0         0      121849   \n",
       "\n",
       "              position_date  \n",
       "tier                         \n",
       "Good enough               0  \n",
       "Insufficient         206828  \n",
       "Reject                67909  \n",
       "T1                        0  \n",
       "T2                     9623  \n",
       "T3                   121849  "
      ]
     },
     "execution_count": 41,
     "metadata": {},
     "output_type": "execute_result"
    }
   ],
   "source": [
    "missing_values_per_group = t.groupby('tier')[['valid_name', 'dob', 'dod', 'occupation', 'location', 'source_url', 'position_date']].apply(lambda x: x.isna().sum())\n",
    "missing_values_per_group"
   ]
  },
  {
   "cell_type": "code",
   "execution_count": null,
   "id": "34e1a9e1-93e1-40f3-bf24-36efcec6ba57",
   "metadata": {},
   "outputs": [],
   "source": []
  },
  {
   "cell_type": "code",
   "execution_count": null,
   "id": "fd9dd956-2e3d-4467-a800-4c440de4a077",
   "metadata": {},
   "outputs": [],
   "source": []
  }
 ],
 "metadata": {
  "kernelspec": {
   "display_name": "Python 3 (ipykernel)",
   "language": "python",
   "name": "python3"
  },
  "language_info": {
   "codemirror_mode": {
    "name": "ipython",
    "version": 3
   },
   "file_extension": ".py",
   "mimetype": "text/x-python",
   "name": "python",
   "nbconvert_exporter": "python",
   "pygments_lexer": "ipython3",
   "version": "3.11.7"
  },
  "widgets": {
   "application/vnd.jupyter.widget-state+json": {
    "state": {},
    "version_major": 2,
    "version_minor": 0
   }
  }
 },
 "nbformat": 4,
 "nbformat_minor": 5
}
