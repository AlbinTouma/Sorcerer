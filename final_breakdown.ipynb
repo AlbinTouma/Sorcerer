{
 "cells": [
  {
   "cell_type": "markdown",
   "metadata": {},
   "source": [
    "# Tier Analysis of PEPs to keep, enrich and delete\n"
   ]
  },
  {
   "cell_type": "markdown",
   "metadata": {},
   "source": [
    "## Tier Schema\n",
    "\n",
    "\n",
    "| Field                                                | Reject (if any is invalid)                                                                                | Insufficient (if any is missing)                  | Good enough                                    | Thresholds 1 | T2    | T3    |\n",
    "|------------------------------------------------------|---------------------------------------------------------------------------------------------------------|--------------------------------|------------------------------------------------|---------------------------|-------|-------|\n",
    "| **Name**                                                 | Invalid                                                                                                 | Missing                        | ✅                                          | ✅                     | ✅ | ✅ |\n",
    "| **DoB**                                                  | `>200 years ago & <18                                                                                   | Missing                        | ✅                                          | ✅                     | ✅ | ✅ |\n",
    "| **Occupation**                                           | Not a PEP ¿What about RCAs?                                                                             | Missing                        | ✅                                          | ✅                     | ✅ | ✅ |\n",
    "| **Location**                                             | Reject if missing location/valid location. If value is a continent not useful, treat those as missing.  |                         | 🟡                                        | ✅  | ✅ | ✅ |\n",
    "| **Source Url**                                           | Invalid url                                                                                             |                         | 🟡 | ✅                     | ✅ |       |\n",
    "| **position start date***  | Reject if either start or end date missing |  | 🟡        | ✅                     |       |       |\n",
    "| **DoD**                                                  | >100 years ago                                                                                          |                         | 🟡                                        |                           |       |       |\n",
    "\n",
    "\n",
    "\n",
    "To understand the scale of enriching PEP profiles, we break PEPs into thresholds based on a set of conditions:\n",
    "\n",
    "1. ✅ valid (1),\n",
    "2. ❌ invalid (0),\n",
    "3. missing (None).\n",
    "4. 🟡 Present (either valid or invalid, not missing)\n",
    "5. Blanks are fields that we are agnostic about. Value of data point can be missing, invalid, valid\n",
    "\n",
    "A PEP can fall into one or more tiers. This gives us a funnel view of PEPs in our sources that describes how big the difference is between each tier."
   ]
  },
  {
   "cell_type": "code",
   "execution_count": 1,
   "metadata": {
    "editable": true,
    "slideshow": {
     "slide_type": ""
    },
    "tags": [
     "remove_cell"
    ]
   },
   "outputs": [],
   "source": [
    "import pandas as pd\n",
    "import numpy as np\n",
    "import os\n",
    "%run queries.py\n",
    "pd.set_option('display.max_rows', None)\n",
    "pd.set_option('display.max_columns', None)"
   ]
  },
  {
   "cell_type": "code",
   "execution_count": 2,
   "metadata": {
    "editable": true,
    "slideshow": {
     "slide_type": ""
    },
    "tags": [
     "remove_cell"
    ]
   },
   "outputs": [],
   "source": [
    "# Load Data\n",
    "input_directory = '../../../sorcerer/src/parquet/'\n",
    "input_files = [f for f in os.listdir(input_directory) if f.endswith('.parquet')]\n",
    "list_df = []\n",
    "for input_file in input_files:\n",
    "    input_file_path = os.path.join(input_directory, input_file)\n",
    "    data = pd.read_parquet(input_file_path)\n",
    "    list_df.append(data)\n",
    "\n",
    "data = pd.concat(list_df).reset_index(drop=True)\n",
    "data = data.where(pd.notnull(data), None)"
   ]
  },
  {
   "cell_type": "code",
   "execution_count": 3,
   "metadata": {
    "editable": true,
    "slideshow": {
     "slide_type": ""
    },
    "tags": [
     "remove_cell"
    ]
   },
   "outputs": [],
   "source": [
    "#Prepare data\n",
    "data['_source.sources.source_ids'] = data['_source.sources.source_ids'].apply(lambda x: ', '.join(map(str, x)))\n",
    "data['completeness'] = data['completeness'].replace(0, 'incomplete')\n",
    "\n",
    "# Select Sources\n",
    "LIST_SOURCE_SOURCE_IDS = ['S:FBFYW0 [DBPedia]','S:4CU7GM [PEP Everypolitician]', 'S:8L276A [Manual PEPs]', 'S:1GYJGG [The Official Board]', 'S:MFCNUA [PEP US Diplomat list 2]']\n",
    "data = data[data['_source.sources.source_ids'].isin(LIST_SOURCE_SOURCE_IDS)]\n",
    "\n",
    "#Remove RCAs\n",
    "RCA_DBPEDIA = data[(data['_source.sources.source_ids'] == 'S:FBFYW0 [DBPedia]') & (data['PEP_id'] == False)]\n",
    "data.drop(RCA_DBPEDIA.index, inplace=True)"
   ]
  },
  {
   "cell_type": "markdown",
   "metadata": {},
   "source": [
    "## Processing Fields"
   ]
  },
  {
   "cell_type": "markdown",
   "metadata": {},
   "source": [
    "### Name check\n",
    "\n",
    "Names are non-negotiable. Either a PEP has a valid name or they do not. We therefore score invalid names 0 and valid names 1. "
   ]
  },
  {
   "cell_type": "code",
   "execution_count": 4,
   "metadata": {
    "editable": true,
    "slideshow": {
     "slide_type": ""
    },
    "tags": []
   },
   "outputs": [],
   "source": [
    "name_check = data['TOTAL_FLAGS'].apply(lambda x: 0 if x > 0 else 1)"
   ]
  },
  {
   "cell_type": "markdown",
   "metadata": {},
   "source": [
    "### Date of birth\n",
    "\n",
    "For date of births, we return None for missing values, 0 for invalid ages that are <18 or >200 and 1 for valid ages"
   ]
  },
  {
   "cell_type": "code",
   "execution_count": 5,
   "metadata": {},
   "outputs": [],
   "source": [
    "date_of_birth = data['_source.data.births.age'].apply(lambda x: None if pd.isna(x) else (0 if x <18 or x >= 200 else 1))"
   ]
  },
  {
   "cell_type": "markdown",
   "metadata": {},
   "source": [
    "### Date of death\n",
    "\n",
    "Date of death is valid if the date is <100 years ago otherwise invalid. There are missing values here. "
   ]
  },
  {
   "cell_type": "code",
   "execution_count": 6,
   "metadata": {},
   "outputs": [],
   "source": [
    "date_of_death = data['_source.data.deaths.years_since_death'].apply(lambda x: None if pd.isna(x) else (1 if x <=100 else 0))"
   ]
  },
  {
   "cell_type": "markdown",
   "metadata": {},
   "source": [
    "### Occupation\n",
    "\n",
    "We return None when there is no value is either display or occupation fields, 0 if there is but has_occupation is false, and 1 if the occupation is present and a valid PEP occupation."
   ]
  },
  {
   "cell_type": "code",
   "execution_count": 7,
   "metadata": {},
   "outputs": [],
   "source": [
    "#Display fields and occupation are None! So to detect insufficient we take None if there's  no data to evaluate in occupations and dispaly. If one has a value we'd check that and incorrect occupation is value does not work. \n",
    "occupation = data.apply(lambda row: None if row['has_occupation'] is False and row['_source.data.display_fields.value'] is None and row['_source.data.occupations.occupation'] is None else (0 if row['has_occupation'] == False else 1), axis=1)"
   ]
  },
  {
   "cell_type": "markdown",
   "metadata": {},
   "source": [
    "### Location\n",
    "\n",
    "PEPs can be missing a location. In these cases, we return None. When a PEP has a \"continent\" as it's location, we return 0. There can be more than one value in the location list. As such, we do not invalidate a PEP with a continent and a country as its location. Only PEPs with a continent as the sole value are invalid. 1 is returned for valid location."
   ]
  },
  {
   "cell_type": "code",
   "execution_count": 8,
   "metadata": {},
   "outputs": [],
   "source": [
    "#Location check. If None return none. If all values a continent then return 0, else 1. This value is a list of places [] so iterate through each list for each row. \n",
    "# Actually we need a Present here. Values: None: None, Present but wrong: 0, Present and not continent: 1\n",
    "data['source.data.locations.name'] = data['_source.data.locations.name'].apply(lambda x: x.tolist() if x is not None else None) #Convert np.array to list for each row in pd.Series\n",
    "continents = ['North America', 'South America', 'Europe', 'Asia', 'Africa', 'Oceania', 'Middle East']\n",
    "location = data['source.data.locations.name'].apply(lambda x: None if x is None else (0 if all(value in continents for value in x) else 1))"
   ]
  },
  {
   "cell_type": "markdown",
   "metadata": {},
   "source": [
    "### Source URL\n",
    "\n",
    "None values are returned as None, 0 is for invalid url, and 1 if valid url."
   ]
  },
  {
   "cell_type": "code",
   "execution_count": 9,
   "metadata": {},
   "outputs": [],
   "source": [
    "# Source url. None for None values, 0 if all in list invalid url and 1 if valid url \n",
    "data['_source.assets.external_urls'] = data['_source.assets.external_urls'].apply(lambda x: x.tolist() if x is not None else None)\n",
    "reject_urls = ['http://complyadvantage.com','https://complyadvantage.com']\n",
    "source_url = data['_source.assets.external_urls'].apply(lambda x: None if x is None else (0 if all(url in reject_urls for url in x) else 1))"
   ]
  },
  {
   "cell_type": "markdown",
   "metadata": {},
   "source": [
    "### PEP Position date\n",
    "\n",
    "We cannot validate PEP start dates and end dates nor can we reject PEPs solely if one is missing since 90% of PEPs have a missing start or end value. If both are missing we'll return None, if one is missing we'll return 0 and if both are present we return 1"
   ]
  },
  {
   "cell_type": "code",
   "execution_count": 10,
   "metadata": {
    "editable": true,
    "slideshow": {
     "slide_type": ""
    },
    "tags": []
   },
   "outputs": [],
   "source": [
    "#PEP start date\n",
    "start_date = data['_source.data.aml_types.start_date'].apply(lambda x: None if all(date is None for date in x) else 1)\n",
    "#PEP end date\n",
    "end_date = data['_source.data.aml_types.end_date'].apply(lambda x: None if all(date is None for date in x) else 1)\n",
    "#None if both missing, 0 ie invalid if one none, 1 if both present\n",
    "date_checker = lambda start_date, end_date: \\\n",
    "    None if pd.isna(start_date) and pd.isna(end_date) \\\n",
    "    else (0 if not (pd.isna(start_date) or pd.isna(end_date)) \\\n",
    "    else (1 if not (pd.isna(start_date) and pd.isna(end_date)) else None))\n",
    "position_date = [date_checker(start, end) for start, end in zip(start_date, end_date)]"
   ]
  },
  {
   "cell_type": "markdown",
   "metadata": {},
   "source": [
    "### Sorting PEPs into tiers\n",
    "\n",
    "We sort PEPs into our tiers based on whether they meet our conditions. \n"
   ]
  },
  {
   "cell_type": "code",
   "execution_count": 11,
   "metadata": {
    "editable": true,
    "slideshow": {
     "slide_type": ""
    },
    "tags": []
   },
   "outputs": [],
   "source": [
    "result = pd.DataFrame({\n",
    "    \"valid_name\": name_check,\n",
    "    \"dob\": date_of_birth,\n",
    "    \"dod\": date_of_death,\n",
    "    \"occupation\": occupation,\n",
    "    \"location\": location,\n",
    "    \"source_url\": source_url, \n",
    "    \"position_date\": position_date,\n",
    "    })\n"
   ]
  },
  {
   "cell_type": "markdown",
   "metadata": {
    "editable": true,
    "slideshow": {
     "slide_type": ""
    },
    "tags": []
   },
   "source": [
    "Tier One\n",
    "\n",
    "- valid name,\n",
    "- valid dob,\n",
    "- valid date of death or null. Not invalid. \n",
    "- valid occupation,\n",
    "- valid location,\n",
    "- valid url,\n",
    "- valid start_date\n"
   ]
  },
  {
   "cell_type": "code",
   "execution_count": 12,
   "metadata": {
    "editable": true,
    "slideshow": {
     "slide_type": ""
    },
    "tags": []
   },
   "outputs": [],
   "source": [
    "condition = (result['valid_name'] == 1) & (result['dob'] == 1) & (result['dod'] != 0) & (result['occupation'] == 1) & (result['location'] == 1) & (result['source_url'] == 1) & (result['position_date'] == 1)\n",
    "result.loc[condition, 'tier_1'] = 'T1'"
   ]
  },
  {
   "cell_type": "markdown",
   "metadata": {},
   "source": [
    "Tier Two\n",
    "\n",
    "- valid name\n",
    "- valid dob\n",
    "- valid date of death or null. Cannot be invalid.\n",
    "- valid occupation\n",
    "- valid location\n",
    "- valid url\n",
    "- start date is missing. Not valid and not invalid. Start date can be present. Can be valid, missing, or invalid. Don't care. \n"
   ]
  },
  {
   "cell_type": "code",
   "execution_count": 13,
   "metadata": {},
   "outputs": [],
   "source": [
    "#Check valid name, valid dob, dod is not invalid, valid occupation, valid location, valid source_url, start date is not valid and not invalid. \n",
    "result.loc[(result['valid_name'] == 1) & (result['dob'] == 1) & ~(result['dod'] == 0) &  (result['occupation'] == 1) & (result['location'] == 1) & (result['source_url'] == 1), 'tier_2'] = 'T2'"
   ]
  },
  {
   "cell_type": "markdown",
   "metadata": {},
   "source": [
    "Tier 3\n",
    "\n",
    "- valid name\n",
    "- valid dob\n",
    "- valid or missing date of death. Value is not invalid. \n",
    "- valid occupation\n",
    "- valid location\n",
    "- source_url is missing; not invalid and is not valid.\n",
    "- pep start date is missing; not invalid and is not valid."
   ]
  },
  {
   "cell_type": "code",
   "execution_count": 14,
   "metadata": {},
   "outputs": [],
   "source": [
    "#Valid name, valid dob, dod is not invalid, occupation is valid, location is valid, source_url and start_date missing; not valid and not invalid.\n",
    "result.loc[(result['valid_name'] == 1) & (result['dob'] == 1) & ~(result['dod'] == 0) & (result['occupation'] == 1) & (result['location'] == 1), 'tier_3'] = 'T3'"
   ]
  },
  {
   "cell_type": "markdown",
   "metadata": {
    "editable": true,
    "slideshow": {
     "slide_type": ""
    },
    "tags": []
   },
   "source": [
    "Good Enough\n",
    "\n",
    "> Good enough has a low count because we expect date of death to be present\n",
    "\n",
    "- Valid name\n",
    "- Valid date of birth\n",
    "- valid or invalid date of death\n",
    "- valid occupation\n",
    "- valid or invalid location\n",
    "- valid or invalid source_url\n",
    "- valid or invalid post_date"
   ]
  },
  {
   "cell_type": "code",
   "execution_count": 15,
   "metadata": {},
   "outputs": [],
   "source": [
    "#Valid name, valid dob, date of death is not missing, valid occupation, location is not missing, source_url is not missing, position_date is not missing. \n",
    "# Good enough is low because we expect DoD to be present. \n",
    "result.loc[(result['valid_name'] == 1) & (result['dob'] == 1) & ~(pd.isna(result['dod'])) & (result['occupation'] == 1) & ~(pd.isna(result['location'])) & ~(pd.isna(result['source_url'])) & ~(pd.isna(result['position_date'])), 'tier_good_enough'] = 'Good enough'"
   ]
  },
  {
   "cell_type": "markdown",
   "metadata": {},
   "source": [
    "Rejected\n",
    "\n",
    "Any of the conditions is invalid\n",
    "- invalid name or\n",
    "- invalid dob or\n",
    "- invalid dod or\n",
    "- invalid occupation or, \n",
    "- invalid location or\n",
    "- invalid source url\n",
    "- invalid start date"
   ]
  },
  {
   "cell_type": "code",
   "execution_count": 16,
   "metadata": {},
   "outputs": [],
   "source": [
    "# invalid name, or invalid dob, or invalid date of death, or invalid occupation, or invalid location, or invalid source_url, or invalid start_date\n",
    "result.loc[(result['valid_name'] == 0) | (result['dob'] == 0) | (result['dod'] == 0) | (result['occupation'] == 0) |  (result['location'] == 0) | (result['source_url'] == 0) | (result['position_date'] == 0), 'tier_reject']  = 'Reject'"
   ]
  },
  {
   "cell_type": "markdown",
   "metadata": {},
   "source": [
    "Insufficient if any condition is true\n",
    "\n",
    "- missing name (there are no missing names) \n",
    "- missing dob and,\n",
    "- missing occupation,\n",
    "- missing location,\n"
   ]
  },
  {
   "cell_type": "code",
   "execution_count": 17,
   "metadata": {
    "editable": true,
    "slideshow": {
     "slide_type": ""
    },
    "tags": []
   },
   "outputs": [],
   "source": [
    "\n",
    "# Approach 1: Whathever PEPs did not meet criteria for thresholds or rejection label as insufficient.\n",
    "result.loc[(pd.isna(result['dob'])) | (pd.isna(result['occupation'])) | (pd.isna(result['location'])),  'tier_insufficient']  = 'Insufficient'"
   ]
  },
  {
   "cell_type": "markdown",
   "metadata": {},
   "source": [
    "## Results\n",
    "\n",
    "~70% of PEP profiles are either insufficient or rejected. These are PEP profiles that would be too difficult to enrich and our recommendation is to delete them. "
   ]
  },
  {
   "cell_type": "code",
   "execution_count": 18,
   "metadata": {
    "editable": true,
    "slideshow": {
     "slide_type": ""
    },
    "tags": [
     "remove_input"
    ]
   },
   "outputs": [
    {
     "data": {
      "text/html": [
       "<div>\n",
       "<style scoped>\n",
       "    .dataframe tbody tr th:only-of-type {\n",
       "        vertical-align: middle;\n",
       "    }\n",
       "\n",
       "    .dataframe tbody tr th {\n",
       "        vertical-align: top;\n",
       "    }\n",
       "\n",
       "    .dataframe thead th {\n",
       "        text-align: right;\n",
       "    }\n",
       "</style>\n",
       "<table border=\"1\" class=\"dataframe\">\n",
       "  <thead>\n",
       "    <tr style=\"text-align: right;\">\n",
       "      <th></th>\n",
       "      <th>index</th>\n",
       "      <th>0</th>\n",
       "    </tr>\n",
       "  </thead>\n",
       "  <tbody>\n",
       "    <tr>\n",
       "      <th>0</th>\n",
       "      <td>tier_1</td>\n",
       "      <td>14595</td>\n",
       "    </tr>\n",
       "    <tr>\n",
       "      <th>1</th>\n",
       "      <td>tier_2</td>\n",
       "      <td>41692</td>\n",
       "    </tr>\n",
       "    <tr>\n",
       "      <th>2</th>\n",
       "      <td>tier_3</td>\n",
       "      <td>180300</td>\n",
       "    </tr>\n",
       "    <tr>\n",
       "      <th>3</th>\n",
       "      <td>tier_good_enough</td>\n",
       "      <td>2551</td>\n",
       "    </tr>\n",
       "    <tr>\n",
       "      <th>4</th>\n",
       "      <td>tier_reject</td>\n",
       "      <td>132789</td>\n",
       "    </tr>\n",
       "    <tr>\n",
       "      <th>5</th>\n",
       "      <td>tier_insufficient</td>\n",
       "      <td>323200</td>\n",
       "    </tr>\n",
       "  </tbody>\n",
       "</table>\n",
       "</div>"
      ],
      "text/plain": [
       "               index       0\n",
       "0             tier_1   14595\n",
       "1             tier_2   41692\n",
       "2             tier_3  180300\n",
       "3   tier_good_enough    2551\n",
       "4        tier_reject  132789\n",
       "5  tier_insufficient  323200"
      ]
     },
     "execution_count": 18,
     "metadata": {},
     "output_type": "execute_result"
    }
   ],
   "source": [
    "result.filter(like='tier').count().reset_index()"
   ]
  },
  {
   "cell_type": "markdown",
   "metadata": {
    "editable": true,
    "slideshow": {
     "slide_type": ""
    },
    "tags": []
   },
   "source": [
    "### Tiers by data quality score\n",
    "\n",
    "We find that our data quality threshold maps to the tier system when we group PEP tiers by data quality, illustrating that wheights assigned by Sorcerer to different data fields aligns with expectations."
   ]
  },
  {
   "cell_type": "code",
   "execution_count": 19,
   "metadata": {
    "editable": true,
    "slideshow": {
     "slide_type": ""
    },
    "tags": [
     "remove_cell"
    ]
   },
   "outputs": [],
   "source": [
    "t = pd.merge(result, data, left_index=True, right_index=True, how='inner')"
   ]
  },
  {
   "cell_type": "code",
   "execution_count": 20,
   "metadata": {
    "editable": true,
    "slideshow": {
     "slide_type": ""
    },
    "tags": [
     "remove_cell"
    ]
   },
   "outputs": [],
   "source": [
    "by_dqs = t.groupby('score.data_quality')[['tier_good_enough', 'tier_1', 'tier_2', 'tier_3', 'tier_reject', 'tier_insufficient']].count().reset_index()"
   ]
  },
  {
   "cell_type": "code",
   "execution_count": 21,
   "metadata": {
    "editable": true,
    "slideshow": {
     "slide_type": ""
    },
    "tags": [
     "remove_cell"
    ]
   },
   "outputs": [
    {
     "name": "stderr",
     "output_type": "stream",
     "text": [
      "/tmp/ipykernel_103863/519355108.py:4: FutureWarning: The default of observed=False is deprecated and will be changed to True in a future version of pandas. Pass observed=False to retain current behavior or observed=True to adopt the future default and silence this warning.\n",
      "  by_dqs = by_dqs.groupby('bins')[['tier_good_enough', 'tier_1', 'tier_2', 'tier_3', 'tier_reject', 'tier_insufficient']].sum()\n"
     ]
    }
   ],
   "source": [
    "bins = [0, 0.5, 0.75, 1]\n",
    "labels = ['0-0.49', '0.5-0.749', '0.75-1']\n",
    "by_dqs['bins'] = pd.cut(by_dqs['score.data_quality'], bins, labels=labels)\n",
    "by_dqs = by_dqs.groupby('bins')[['tier_good_enough', 'tier_1', 'tier_2', 'tier_3', 'tier_reject', 'tier_insufficient']].sum()"
   ]
  },
  {
   "cell_type": "code",
   "execution_count": 22,
   "metadata": {
    "editable": true,
    "slideshow": {
     "slide_type": ""
    },
    "tags": [
     "remove_input"
    ]
   },
   "outputs": [
    {
     "name": "stderr",
     "output_type": "stream",
     "text": [
      "/usr/lib/python3/dist-packages/scipy/__init__.py:146: UserWarning: A NumPy version >=1.17.3 and <1.25.0 is required for this version of SciPy (detected version 1.26.4\n",
      "  warnings.warn(f\"A NumPy version >={np_minversion} and <{np_maxversion}\"\n"
     ]
    },
    {
     "data": {
      "image/png": "[encoded data removed]",
      "text/plain": [
       "<Figure size 720x432 with 2 Axes>"
      ]
     },
     "metadata": {
      "needs_background": "light"
     },
     "output_type": "display_data"
    }
   ],
   "source": [
    "import seaborn as sns\n",
    "import matplotlib.pyplot as plt\n",
    "plt.figure(figsize=(10, 6))  # Adjust the size of the plot as needed\n",
    "sns.heatmap(by_dqs[['tier_good_enough','tier_1', 'tier_2', 'tier_3', 'tier_reject', 'tier_insufficient']], cmap='Greens', annot=True, fmt='g')  # Use 'Greens' colormap for green shades\n",
    "plt.title('Heatmap with Higher Values in More Intense Green')\n",
    "plt.xlabel('Tiers')\n",
    "plt.ylabel('Bins')\n",
    "plt.show()"
   ]
  },
  {
   "cell_type": "code",
   "execution_count": 23,
   "metadata": {
    "editable": true,
    "slideshow": {
     "slide_type": ""
    },
    "tags": [
     "remove_cell"
    ]
   },
   "outputs": [],
   "source": [
    "t1 = create_queries(t[t['tier_1'] == 'Tier 1'])\n",
    "t2 = create_queries(t[t['tier_2'] == 'Tier 2'])\n",
    "t3 = create_queries(t[t['tier_3'] == 'Tier 3'])\n",
    "good_enough = create_queries(t[t['tier_good_enough'] == 'Good enough'])\n",
    "rejected = create_queries(t[t['tier_reject'] == 'Reject'])\n",
    "insufficient = create_queries(t[t['tier_insufficient'] == 'Insufficient'])"
   ]
  },
  {
   "cell_type": "markdown",
   "metadata": {
    "editable": true,
    "slideshow": {
     "slide_type": ""
    },
    "tags": []
   },
   "source": [
    "### Trenche breakdown\n",
    "\n",
    "As expected, none of the tiers are invalid except for insufficient and rejected PEPs."
   ]
  },
  {
   "cell_type": "code",
   "execution_count": 24,
   "metadata": {
    "editable": true,
    "slideshow": {
     "slide_type": ""
    },
    "tags": [
     "remove_input"
    ]
   },
   "outputs": [
    {
     "data": {
      "text/html": [
       "<div>\n",
       "<style scoped>\n",
       "    .dataframe tbody tr th:only-of-type {\n",
       "        vertical-align: middle;\n",
       "    }\n",
       "\n",
       "    .dataframe tbody tr th {\n",
       "        vertical-align: top;\n",
       "    }\n",
       "\n",
       "    .dataframe thead th {\n",
       "        text-align: right;\n",
       "    }\n",
       "</style>\n",
       "<table border=\"1\" class=\"dataframe\">\n",
       "  <thead>\n",
       "    <tr style=\"text-align: right;\">\n",
       "      <th></th>\n",
       "      <th>invalid</th>\n",
       "      <th>t1</th>\n",
       "      <th>t2</th>\n",
       "      <th>t3</th>\n",
       "      <th>good enough</th>\n",
       "      <th>insufficient</th>\n",
       "      <th>rejected</th>\n",
       "    </tr>\n",
       "    <tr>\n",
       "      <th>Tranche</th>\n",
       "      <th></th>\n",
       "      <th></th>\n",
       "      <th></th>\n",
       "      <th></th>\n",
       "      <th></th>\n",
       "      <th></th>\n",
       "      <th></th>\n",
       "    </tr>\n",
       "  </thead>\n",
       "  <tbody>\n",
       "    <tr>\n",
       "      <th>4.0</th>\n",
       "      <td>quality, age, name, occupation</td>\n",
       "      <td>0</td>\n",
       "      <td>0</td>\n",
       "      <td>0</td>\n",
       "      <td>0</td>\n",
       "      <td>994</td>\n",
       "      <td>994</td>\n",
       "    </tr>\n",
       "    <tr>\n",
       "      <th>3.0</th>\n",
       "      <td>quality,age, occupation</td>\n",
       "      <td>0</td>\n",
       "      <td>0</td>\n",
       "      <td>0</td>\n",
       "      <td>0</td>\n",
       "      <td>67423</td>\n",
       "      <td>67465</td>\n",
       "    </tr>\n",
       "    <tr>\n",
       "      <th></th>\n",
       "      <td>quality,age, name</td>\n",
       "      <td>0</td>\n",
       "      <td>0</td>\n",
       "      <td>0</td>\n",
       "      <td>0</td>\n",
       "      <td>1334</td>\n",
       "      <td>1334</td>\n",
       "    </tr>\n",
       "    <tr>\n",
       "      <th></th>\n",
       "      <td>quality, name, occupation</td>\n",
       "      <td>0</td>\n",
       "      <td>0</td>\n",
       "      <td>0</td>\n",
       "      <td>0</td>\n",
       "      <td>78</td>\n",
       "      <td>97</td>\n",
       "    </tr>\n",
       "    <tr>\n",
       "      <th></th>\n",
       "      <td>age, name, occupation</td>\n",
       "      <td>0</td>\n",
       "      <td>0</td>\n",
       "      <td>0</td>\n",
       "      <td>0</td>\n",
       "      <td>0</td>\n",
       "      <td>0</td>\n",
       "    </tr>\n",
       "    <tr>\n",
       "      <th>2.0</th>\n",
       "      <td>quality, age</td>\n",
       "      <td>0</td>\n",
       "      <td>0</td>\n",
       "      <td>0</td>\n",
       "      <td>0</td>\n",
       "      <td>210559</td>\n",
       "      <td>13584</td>\n",
       "    </tr>\n",
       "    <tr>\n",
       "      <th></th>\n",
       "      <td>quality, occupation</td>\n",
       "      <td>0</td>\n",
       "      <td>0</td>\n",
       "      <td>0</td>\n",
       "      <td>0</td>\n",
       "      <td>1524</td>\n",
       "      <td>3283</td>\n",
       "    </tr>\n",
       "    <tr>\n",
       "      <th></th>\n",
       "      <td>age, name</td>\n",
       "      <td>0</td>\n",
       "      <td>0</td>\n",
       "      <td>0</td>\n",
       "      <td>0</td>\n",
       "      <td>179</td>\n",
       "      <td>179</td>\n",
       "    </tr>\n",
       "    <tr>\n",
       "      <th></th>\n",
       "      <td>quality, name</td>\n",
       "      <td>0</td>\n",
       "      <td>0</td>\n",
       "      <td>0</td>\n",
       "      <td>0</td>\n",
       "      <td>75</td>\n",
       "      <td>88</td>\n",
       "    </tr>\n",
       "    <tr>\n",
       "      <th></th>\n",
       "      <td>name, occupation</td>\n",
       "      <td>0</td>\n",
       "      <td>0</td>\n",
       "      <td>0</td>\n",
       "      <td>0</td>\n",
       "      <td>0</td>\n",
       "      <td>21</td>\n",
       "    </tr>\n",
       "    <tr>\n",
       "      <th></th>\n",
       "      <td>age, occupation</td>\n",
       "      <td>0</td>\n",
       "      <td>0</td>\n",
       "      <td>0</td>\n",
       "      <td>0</td>\n",
       "      <td>0</td>\n",
       "      <td>0</td>\n",
       "    </tr>\n",
       "    <tr>\n",
       "      <th>1.0</th>\n",
       "      <td>age</td>\n",
       "      <td>0</td>\n",
       "      <td>0</td>\n",
       "      <td>0</td>\n",
       "      <td>0</td>\n",
       "      <td>31683</td>\n",
       "      <td>2767</td>\n",
       "    </tr>\n",
       "    <tr>\n",
       "      <th></th>\n",
       "      <td>occupation</td>\n",
       "      <td>0</td>\n",
       "      <td>0</td>\n",
       "      <td>0</td>\n",
       "      <td>0</td>\n",
       "      <td>0</td>\n",
       "      <td>13189</td>\n",
       "    </tr>\n",
       "    <tr>\n",
       "      <th></th>\n",
       "      <td>quality</td>\n",
       "      <td>0</td>\n",
       "      <td>0</td>\n",
       "      <td>0</td>\n",
       "      <td>0</td>\n",
       "      <td>4312</td>\n",
       "      <td>0</td>\n",
       "    </tr>\n",
       "    <tr>\n",
       "      <th></th>\n",
       "      <td>name</td>\n",
       "      <td>0</td>\n",
       "      <td>0</td>\n",
       "      <td>0</td>\n",
       "      <td>0</td>\n",
       "      <td>175</td>\n",
       "      <td>1344</td>\n",
       "    </tr>\n",
       "  </tbody>\n",
       "</table>\n",
       "</div>"
      ],
      "text/plain": [
       "                                invalid  t1  t2  t3  good enough  \\\n",
       "Tranche                                                            \n",
       "4.0      quality, age, name, occupation   0   0   0            0   \n",
       "3.0             quality,age, occupation   0   0   0            0   \n",
       "                      quality,age, name   0   0   0            0   \n",
       "              quality, name, occupation   0   0   0            0   \n",
       "                  age, name, occupation   0   0   0            0   \n",
       "2.0                        quality, age   0   0   0            0   \n",
       "                    quality, occupation   0   0   0            0   \n",
       "                              age, name   0   0   0            0   \n",
       "                          quality, name   0   0   0            0   \n",
       "                       name, occupation   0   0   0            0   \n",
       "                        age, occupation   0   0   0            0   \n",
       "1.0                                 age   0   0   0            0   \n",
       "                             occupation   0   0   0            0   \n",
       "                                quality   0   0   0            0   \n",
       "                                   name   0   0   0            0   \n",
       "\n",
       "         insufficient  rejected  \n",
       "Tranche                          \n",
       "4.0               994       994  \n",
       "3.0             67423     67465  \n",
       "                 1334      1334  \n",
       "                   78        97  \n",
       "                    0         0  \n",
       "2.0            210559     13584  \n",
       "                 1524      3283  \n",
       "                  179       179  \n",
       "                   75        88  \n",
       "                    0        21  \n",
       "                    0         0  \n",
       "1.0             31683      2767  \n",
       "                    0     13189  \n",
       "                 4312         0  \n",
       "                  175      1344  "
      ]
     },
     "execution_count": 24,
     "metadata": {},
     "output_type": "execute_result"
    }
   ],
   "source": [
    "#pd.merge(t1, t2, on='count', how='inner')\n",
    "t1['t2'] = t2['count']\n",
    "t1['t3'] = t3['count']\n",
    "t1['good enough'] = good_enough['count']\n",
    "t1['rejected'] = rejected['count']\n",
    "t1['insufficient'] = insufficient['count']\n",
    "t1 = t1[['index', 'count', 't2', 't3', 'good enough', 'insufficient', 'rejected']].rename(columns={'index': 'invalid', 'count': 't1'})\n",
    "t1"
   ]
  },
  {
   "cell_type": "markdown",
   "metadata": {
    "editable": true,
    "slideshow": {
     "slide_type": ""
    },
    "tags": []
   },
   "source": [
    "### PEP tiers by source\n",
    "\n",
    "Below is a breakdown of PEP tiers by their respective source. "
   ]
  },
  {
   "cell_type": "code",
   "execution_count": 25,
   "metadata": {
    "editable": true,
    "slideshow": {
     "slide_type": ""
    },
    "tags": [
     "remove_input"
    ]
   },
   "outputs": [
    {
     "data": {
      "text/html": [
       "<div>\n",
       "<style scoped>\n",
       "    .dataframe tbody tr th:only-of-type {\n",
       "        vertical-align: middle;\n",
       "    }\n",
       "\n",
       "    .dataframe tbody tr th {\n",
       "        vertical-align: top;\n",
       "    }\n",
       "\n",
       "    .dataframe thead th {\n",
       "        text-align: right;\n",
       "    }\n",
       "</style>\n",
       "<table border=\"1\" class=\"dataframe\">\n",
       "  <thead>\n",
       "    <tr style=\"text-align: right;\">\n",
       "      <th></th>\n",
       "      <th>tier_good_enough</th>\n",
       "      <th>tier_1</th>\n",
       "      <th>tier_2</th>\n",
       "      <th>tier_3</th>\n",
       "      <th>tier_reject</th>\n",
       "      <th>tier_insufficient</th>\n",
       "    </tr>\n",
       "    <tr>\n",
       "      <th>_source.sources.source_ids</th>\n",
       "      <th></th>\n",
       "      <th></th>\n",
       "      <th></th>\n",
       "      <th></th>\n",
       "      <th></th>\n",
       "      <th></th>\n",
       "    </tr>\n",
       "  </thead>\n",
       "  <tbody>\n",
       "    <tr>\n",
       "      <th>S:1GYJGG [The Official Board]</th>\n",
       "      <td>0</td>\n",
       "      <td>0</td>\n",
       "      <td>0</td>\n",
       "      <td>0</td>\n",
       "      <td>54</td>\n",
       "      <td>20923</td>\n",
       "    </tr>\n",
       "    <tr>\n",
       "      <th>S:4CU7GM [PEP Everypolitician]</th>\n",
       "      <td>2551</td>\n",
       "      <td>10802</td>\n",
       "      <td>27695</td>\n",
       "      <td>44434</td>\n",
       "      <td>47845</td>\n",
       "      <td>27242</td>\n",
       "    </tr>\n",
       "    <tr>\n",
       "      <th>S:8L276A [Manual PEPs]</th>\n",
       "      <td>0</td>\n",
       "      <td>3793</td>\n",
       "      <td>13997</td>\n",
       "      <td>14021</td>\n",
       "      <td>78764</td>\n",
       "      <td>235127</td>\n",
       "    </tr>\n",
       "    <tr>\n",
       "      <th>S:FBFYW0 [DBPedia]</th>\n",
       "      <td>0</td>\n",
       "      <td>0</td>\n",
       "      <td>0</td>\n",
       "      <td>121845</td>\n",
       "      <td>6028</td>\n",
       "      <td>35385</td>\n",
       "    </tr>\n",
       "    <tr>\n",
       "      <th>S:MFCNUA [PEP US Diplomat list 2]</th>\n",
       "      <td>0</td>\n",
       "      <td>0</td>\n",
       "      <td>0</td>\n",
       "      <td>0</td>\n",
       "      <td>98</td>\n",
       "      <td>4523</td>\n",
       "    </tr>\n",
       "  </tbody>\n",
       "</table>\n",
       "</div>"
      ],
      "text/plain": [
       "                                   tier_good_enough  tier_1  tier_2  tier_3  \\\n",
       "_source.sources.source_ids                                                    \n",
       "S:1GYJGG [The Official Board]                     0       0       0       0   \n",
       "S:4CU7GM [PEP Everypolitician]                 2551   10802   27695   44434   \n",
       "S:8L276A [Manual PEPs]                            0    3793   13997   14021   \n",
       "S:FBFYW0 [DBPedia]                                0       0       0  121845   \n",
       "S:MFCNUA [PEP US Diplomat list 2]                 0       0       0       0   \n",
       "\n",
       "                                   tier_reject  tier_insufficient  \n",
       "_source.sources.source_ids                                         \n",
       "S:1GYJGG [The Official Board]               54              20923  \n",
       "S:4CU7GM [PEP Everypolitician]           47845              27242  \n",
       "S:8L276A [Manual PEPs]                   78764             235127  \n",
       "S:FBFYW0 [DBPedia]                        6028              35385  \n",
       "S:MFCNUA [PEP US Diplomat list 2]           98               4523  "
      ]
     },
     "execution_count": 25,
     "metadata": {},
     "output_type": "execute_result"
    }
   ],
   "source": [
    "# By source\n",
    "#t.filter(like='source').columns\n",
    "by_source = t.groupby('_source.sources.source_ids')[['tier_good_enough','tier_1', 'tier_2', 'tier_3', 'tier_reject', 'tier_insufficient']].count()\n",
    "by_source"
   ]
  }
 ],
 "metadata": {
  "kernelspec": {
   "display_name": "Python 3 (ipykernel)",
   "language": "python",
   "name": "python3"
  },
  "language_info": {
   "codemirror_mode": {
    "name": "ipython",
    "version": 3
   },
   "file_extension": ".py",
   "mimetype": "text/x-python",
   "name": "python",
   "nbconvert_exporter": "python",
   "pygments_lexer": "ipython3",
   "version": "3.10.12"
  }
 },
 "nbformat": 4,
 "nbformat_minor": 4
}
